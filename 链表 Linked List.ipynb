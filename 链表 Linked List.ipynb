{
 "cells": [
  {
   "cell_type": "code",
   "execution_count": 9,
   "id": "85ed89fc",
   "metadata": {},
   "outputs": [],
   "source": [
    "class Node(object):\n",
    "    def __init__(self, value=None, next=None):\n",
    "        self.value, self.next = value, next"
   ]
  },
  {
   "cell_type": "code",
   "execution_count": 10,
   "id": "44e332b7",
   "metadata": {},
   "outputs": [],
   "source": [
    "class LinkedList(object):\n",
    "    def __init__(self, maxsize=None):\n",
    "        self.maxsize = maxsize\n",
    "        self.root = Node()\n",
    "        self.length = 0\n",
    "        self.tailnode = None\n",
    "        \n",
    "    def __len__(self):\n",
    "        return self.length\n",
    "    \n",
    "    def append(self, value):\n",
    "        if self.maxsize is not None and len(self) >= self.maxsize:\n",
    "            raise Exception(\"Full\")\n",
    "        node = Node(value)\n",
    "        tailnode = self.tailnode\n",
    "        if tailnode is None:\n",
    "            self.root.next = node\n",
    "        else:\n",
    "            tailnode.next = node\n",
    "            \n",
    "        self.tailnode = node\n",
    "        self.length += 1\n",
    "    \n",
    "    def appendleft(self, value):\n",
    "        headnode = self.root.next\n",
    "        # node = Node(value)\n",
    "        # self.root.next = node\n",
    "        # node.next = headnode\n",
    "        self.root.next = Node(value, self.root.next)\n",
    "        self.length += 1\n",
    "        \n",
    "    def iter_node(self):\n",
    "        curnode = self.root.next\n",
    "        while curnode is not self.tailnode:\n",
    "            yield curnode\n",
    "            curnode = curnode.next\n",
    "        yield curnode\n",
    "    \n",
    "    def __iter__(self):\n",
    "        for node in self.iter_node():\n",
    "            yield node.value\n",
    "            \n",
    "    def remove(self, value): # O(n)\n",
    "        prevnode = self.root\n",
    "        curnode = self.root.next\n",
    "        while curnode.next is not None:\n",
    "            if curnode.value == value:\n",
    "                prevnode.next = curnode.next\n",
    "                del curnode\n",
    "                self.length -= 1\n",
    "                return\n",
    "            \n",
    "    def find(self, value): # O(n)\n",
    "        index = 0\n",
    "        for node in self.iter_node():\n",
    "            if node.value == value:\n",
    "                return index\n",
    "            index += 1\n",
    "        return -1\n",
    "    \n",
    "    def popleft(self): # O(1)\n",
    "        if self.root.next is None:\n",
    "            raise Exception(\"pop from empty LinkedList\")\n",
    "        headnode = self.root.next\n",
    "        self.root.next = headnode.next\n",
    "        self.length -= 1\n",
    "        value = headnode.value\n",
    "        del headnode\n",
    "        return value\n",
    "    \n",
    "    def clear(self):\n",
    "        for node in self.iter_node():\n",
    "            del node\n",
    "        self.root.next = None\n",
    "        self.length = 0\n",
    "        "
   ]
  },
  {
   "cell_type": "code",
   "execution_count": 11,
   "id": "6dc01411",
   "metadata": {},
   "outputs": [],
   "source": [
    "def test_linked_list():\n",
    "    ll = LinkedList()\n",
    "    \n",
    "    ll.append(0)\n",
    "    ll.append(1)\n",
    "    ll.append(2)\n",
    "    \n",
    "    assert len(ll) == 3\n",
    "    assert ll.find(2) == 2\n",
    "    assert ll.find(3) == -1\n",
    "    \n",
    "    ll.remove(0)\n",
    "    assert len(ll) == 2\n",
    "    assert ll.find(0) == -1\n",
    "    \n",
    "    assert list(ll) == [1, 2]\n",
    "    \n",
    "    ll.appendleft(0)\n",
    "    assert list(ll) == [0, 1, 2]\n",
    "    assert len(ll) == 3 \n",
    "    \n",
    "    headvalue = ll.popleft()\n",
    "    assert headvalue == 0\n",
    "    assert len(ll) == 2\n",
    "    assert list(ll) == [1, 2]\n",
    "    \n",
    "    ll.clear()\n",
    "    assert len(ll) == 0"
   ]
  },
  {
   "cell_type": "code",
   "execution_count": 13,
   "id": "144d3437",
   "metadata": {},
   "outputs": [],
   "source": [
    "ll = LinkedList()\n",
    "    \n",
    "ll.append(0)\n",
    "ll.append(1)\n",
    "ll.append(2)\n",
    "    "
   ]
  },
  {
   "cell_type": "code",
   "execution_count": 39,
   "id": "6d66700f",
   "metadata": {},
   "outputs": [],
   "source": [
    "gg = ll.iter_node()"
   ]
  },
  {
   "cell_type": "code",
   "execution_count": 49,
   "id": "b5cb2a22",
   "metadata": {},
   "outputs": [
    {
     "data": {
      "text/plain": [
       "<generator object LinkedList.__iter__ at 0x7f961874b0b0>"
      ]
     },
     "execution_count": 49,
     "metadata": {},
     "output_type": "execute_result"
    }
   ],
   "source": [
    "iter(ll)"
   ]
  },
  {
   "cell_type": "code",
   "execution_count": 47,
   "id": "b23b2402",
   "metadata": {},
   "outputs": [
    {
     "data": {
      "text/plain": [
       "<__main__.Node at 0x7f960877f3a0>"
      ]
     },
     "execution_count": 47,
     "metadata": {},
     "output_type": "execute_result"
    }
   ],
   "source": [
    "next(gg)"
   ]
  },
  {
   "cell_type": "markdown",
   "id": "2a3560f2",
   "metadata": {},
   "source": [
    "## 解决Head node: 设立dummyHead"
   ]
  },
  {
   "cell_type": "code",
   "execution_count": 732,
   "id": "90120af0",
   "metadata": {},
   "outputs": [],
   "source": [
    "class Node:\n",
    "    \n",
    "    def __init__(self, value=None, next_node=None):\n",
    "        self.value = value\n",
    "        self.next_node = next_node"
   ]
  },
  {
   "cell_type": "code",
   "execution_count": 733,
   "id": "36081473",
   "metadata": {},
   "outputs": [],
   "source": [
    "class LinkedList:\n",
    "    def __init__(self):\n",
    "        self.length = 0\n",
    "        self.root = Node() # dummyHead\n",
    "\n",
    "        \n",
    "    def __len__(self):    # 获取元素个数\n",
    "        return len(self.length)\n",
    "         \n",
    "      \n",
    "    def isEmpty(self):\n",
    "        if self.length == 0:\n",
    "            return True \n",
    "        else:  \n",
    "            return False\n",
    "    \n",
    "        \n",
    "        \n",
    "   \n",
    "        \n",
    "        # 在“索引”为2的地方添加元素: 关键是找到前一个节点 prevnode\n",
    "    def add(self, index, value):\n",
    "        if index < 0:\n",
    "            raise Exception(\"Wrong\")\n",
    "        \n",
    "        # if (index == 0):\n",
    "        #    self.addFirst(value)\n",
    "        #    self.length += 1\n",
    "        \n",
    "        \n",
    "        \n",
    "        prevnode = self.root\n",
    "            \n",
    "        for i in range(index):\n",
    "            prevnode = prevnode.next_node\n",
    "                \n",
    "        prevnode.next_node = Node(value, prevnode.next_node)\n",
    "        self.length += 1\n",
    "        \n",
    "    def addFirst(self, value): # 添加头部比数组简单\n",
    "        self.add(0,value)\n",
    "        \n",
    "    def addLast(self, value):\n",
    "        self.add(self.length, value)\n",
    "       \n",
    "        \n",
    "        \n",
    "    def get(self, index):\n",
    "        if index < 0 or index >= self.length:\n",
    "            raise Exception(\"Wrong\")\n",
    "        \n",
    "        curnode = self.root.next_node\n",
    "        for i in range(index):\n",
    "            curnode = curnode.next_node\n",
    "        return curnode.value\n",
    "    \n",
    "    def getFirst(self):\n",
    "        return self.get(0)\n",
    "    \n",
    "    def getLast(self):\n",
    "        return self.get(self.length-1)\n",
    "\n",
    "    def set(self, index, value):\n",
    "        if index < 0:\n",
    "            raise Exception(\"Wrong\")\n",
    "        \n",
    "        curnode = self.root.next_node\n",
    "        for i in range(index):\n",
    "            curnode = curnode.next_node\n",
    "        curnode.value = value\n",
    "        \n",
    "    def contains(self, value):\n",
    "        curnode = self.root.next_node\n",
    "        \n",
    "        while curnode is not None:\n",
    "            if curnode.value == value:\n",
    "                return True\n",
    "            \n",
    "            curnode = curnode.next_node\n",
    "        \n",
    "        return False\n",
    "    \n",
    "    def remove(self, index):\n",
    "        if index < 0 or index >= self.length:\n",
    "            raise Exception(\"Wrong!!!\")\n",
    "            \n",
    "        prevnode = self.root\n",
    "        for i in range(index):\n",
    "            prevnode = prevnode.next_node\n",
    "        \n",
    "        delnode = prevnode.next_node\n",
    "        val = delnode.value\n",
    "        prevnode.next_node = delnode.next_node\n",
    "        del delnode\n",
    "        \n",
    "        self.length -= 1\n",
    "        return val"
   ]
  },
  {
   "cell_type": "code",
   "execution_count": 734,
   "id": "85005fe0",
   "metadata": {},
   "outputs": [],
   "source": [
    "Linklist = LinkedList()"
   ]
  },
  {
   "cell_type": "code",
   "execution_count": 735,
   "id": "22e6348f",
   "metadata": {},
   "outputs": [],
   "source": [
    "for i in range(5):\n",
    "    Linklist.add(0,i)"
   ]
  },
  {
   "cell_type": "code",
   "execution_count": 740,
   "id": "1c70900f",
   "metadata": {},
   "outputs": [],
   "source": [
    "Linklist.addFirst(33)"
   ]
  },
  {
   "cell_type": "code",
   "execution_count": 728,
   "id": "cbde6490",
   "metadata": {},
   "outputs": [
    {
     "data": {
      "text/plain": [
       "False"
      ]
     },
     "execution_count": 728,
     "metadata": {},
     "output_type": "execute_result"
    }
   ],
   "source": [
    "Linklist.isEmpty()"
   ]
  },
  {
   "cell_type": "code",
   "execution_count": 329,
   "id": "80009526",
   "metadata": {
    "scrolled": true
   },
   "outputs": [],
   "source": [
    "Linklist.add(2, 666)"
   ]
  },
  {
   "cell_type": "code",
   "execution_count": 217,
   "id": "80931903",
   "metadata": {},
   "outputs": [
    {
     "data": {
      "text/plain": [
       "666"
      ]
     },
     "execution_count": 217,
     "metadata": {},
     "output_type": "execute_result"
    }
   ],
   "source": [
    "Linklist.remove(2)"
   ]
  },
  {
   "cell_type": "code",
   "execution_count": 741,
   "id": "4f731d00",
   "metadata": {},
   "outputs": [
    {
     "data": {
      "text/plain": [
       "4"
      ]
     },
     "execution_count": 741,
     "metadata": {},
     "output_type": "execute_result"
    }
   ],
   "source": [
    "Linklist.get(1)"
   ]
  },
  {
   "cell_type": "code",
   "execution_count": 742,
   "id": "29272662",
   "metadata": {},
   "outputs": [
    {
     "data": {
      "text/plain": [
       "33"
      ]
     },
     "execution_count": 742,
     "metadata": {},
     "output_type": "execute_result"
    }
   ],
   "source": [
    "Linklist.getFirst()"
   ]
  },
  {
   "cell_type": "code",
   "execution_count": 730,
   "id": "e76b8160",
   "metadata": {},
   "outputs": [
    {
     "data": {
      "text/plain": [
       "6"
      ]
     },
     "execution_count": 730,
     "metadata": {},
     "output_type": "execute_result"
    }
   ],
   "source": [
    "Linklist.length"
   ]
  },
  {
   "cell_type": "code",
   "execution_count": 365,
   "id": "bbdbfaaa",
   "metadata": {},
   "outputs": [],
   "source": [
    "class LinkedListStack:\n",
    "    \n",
    "    def __init__(self):\n",
    "        self.list = LinkedList()\n",
    "        \n",
    "        \n",
    "    def getSize(self):\n",
    "        return self.list.length\n",
    "    \n",
    "    def isEmpty(self):\n",
    "        return self.list.isEmpty()\n",
    "    \n",
    "    def push(self, value):\n",
    "        self.list.addFirst(value)\n",
    "    \n",
    "    def pop(self):\n",
    "        return self.list.remove(0)\n",
    "    \n",
    "    def peek(self):\n",
    "        return self.list.getFirst()\n",
    "        "
   ]
  },
  {
   "cell_type": "code",
   "execution_count": 366,
   "id": "e078910e",
   "metadata": {},
   "outputs": [],
   "source": [
    "listStack = LinkedListStack()"
   ]
  },
  {
   "cell_type": "code",
   "execution_count": 367,
   "id": "06439d91",
   "metadata": {},
   "outputs": [],
   "source": [
    "for i in range(5):\n",
    "    listStack.push(i)"
   ]
  },
  {
   "cell_type": "code",
   "execution_count": 368,
   "id": "cd7dcd08",
   "metadata": {},
   "outputs": [
    {
     "data": {
      "text/plain": [
       "5"
      ]
     },
     "execution_count": 368,
     "metadata": {},
     "output_type": "execute_result"
    }
   ],
   "source": [
    "listStack.getSize()"
   ]
  },
  {
   "cell_type": "code",
   "execution_count": 369,
   "id": "8e6b193e",
   "metadata": {},
   "outputs": [
    {
     "data": {
      "text/plain": [
       "False"
      ]
     },
     "execution_count": 369,
     "metadata": {},
     "output_type": "execute_result"
    }
   ],
   "source": [
    "listStack.isEmpty()"
   ]
  },
  {
   "cell_type": "code",
   "execution_count": 378,
   "id": "9c46cd05",
   "metadata": {},
   "outputs": [
    {
     "data": {
      "text/plain": [
       "0"
      ]
     },
     "execution_count": 378,
     "metadata": {},
     "output_type": "execute_result"
    }
   ],
   "source": [
    "listStack.pop()"
   ]
  },
  {
   "cell_type": "code",
   "execution_count": 379,
   "id": "6226d53b",
   "metadata": {},
   "outputs": [
    {
     "ename": "Exception",
     "evalue": "Wrong",
     "output_type": "error",
     "traceback": [
      "\u001b[0;31m---------------------------------------------------------------------------\u001b[0m",
      "\u001b[0;31mException\u001b[0m                                 Traceback (most recent call last)",
      "\u001b[0;32m<ipython-input-379-18c52b306970>\u001b[0m in \u001b[0;36m<module>\u001b[0;34m\u001b[0m\n\u001b[0;32m----> 1\u001b[0;31m \u001b[0mlistStack\u001b[0m\u001b[0;34m.\u001b[0m\u001b[0mpeek\u001b[0m\u001b[0;34m(\u001b[0m\u001b[0;34m)\u001b[0m\u001b[0;34m\u001b[0m\u001b[0;34m\u001b[0m\u001b[0m\n\u001b[0m",
      "\u001b[0;32m<ipython-input-365-51c5da418a60>\u001b[0m in \u001b[0;36mpeek\u001b[0;34m(self)\u001b[0m\n\u001b[1;32m     18\u001b[0m \u001b[0;34m\u001b[0m\u001b[0m\n\u001b[1;32m     19\u001b[0m     \u001b[0;32mdef\u001b[0m \u001b[0mpeek\u001b[0m\u001b[0;34m(\u001b[0m\u001b[0mself\u001b[0m\u001b[0;34m)\u001b[0m\u001b[0;34m:\u001b[0m\u001b[0;34m\u001b[0m\u001b[0;34m\u001b[0m\u001b[0m\n\u001b[0;32m---> 20\u001b[0;31m         \u001b[0;32mreturn\u001b[0m \u001b[0mself\u001b[0m\u001b[0;34m.\u001b[0m\u001b[0mlist\u001b[0m\u001b[0;34m.\u001b[0m\u001b[0mgetFirst\u001b[0m\u001b[0;34m(\u001b[0m\u001b[0;34m)\u001b[0m\u001b[0;34m\u001b[0m\u001b[0;34m\u001b[0m\u001b[0m\n\u001b[0m\u001b[1;32m     21\u001b[0m \u001b[0;34m\u001b[0m\u001b[0m\n",
      "\u001b[0;32m<ipython-input-354-69f13e8638fc>\u001b[0m in \u001b[0;36mgetFirst\u001b[0;34m(self)\u001b[0m\n\u001b[1;32m     54\u001b[0m \u001b[0;34m\u001b[0m\u001b[0m\n\u001b[1;32m     55\u001b[0m     \u001b[0;32mdef\u001b[0m \u001b[0mgetFirst\u001b[0m\u001b[0;34m(\u001b[0m\u001b[0mself\u001b[0m\u001b[0;34m)\u001b[0m\u001b[0;34m:\u001b[0m\u001b[0;34m\u001b[0m\u001b[0;34m\u001b[0m\u001b[0m\n\u001b[0;32m---> 56\u001b[0;31m         \u001b[0;32mreturn\u001b[0m \u001b[0mself\u001b[0m\u001b[0;34m.\u001b[0m\u001b[0mget\u001b[0m\u001b[0;34m(\u001b[0m\u001b[0;36m0\u001b[0m\u001b[0;34m)\u001b[0m\u001b[0;34m\u001b[0m\u001b[0;34m\u001b[0m\u001b[0m\n\u001b[0m\u001b[1;32m     57\u001b[0m \u001b[0;34m\u001b[0m\u001b[0m\n\u001b[1;32m     58\u001b[0m     \u001b[0;32mdef\u001b[0m \u001b[0mgetLast\u001b[0m\u001b[0;34m(\u001b[0m\u001b[0mself\u001b[0m\u001b[0;34m)\u001b[0m\u001b[0;34m:\u001b[0m\u001b[0;34m\u001b[0m\u001b[0;34m\u001b[0m\u001b[0m\n",
      "\u001b[0;32m<ipython-input-354-69f13e8638fc>\u001b[0m in \u001b[0;36mget\u001b[0;34m(self, index)\u001b[0m\n\u001b[1;32m     46\u001b[0m     \u001b[0;32mdef\u001b[0m \u001b[0mget\u001b[0m\u001b[0;34m(\u001b[0m\u001b[0mself\u001b[0m\u001b[0;34m,\u001b[0m \u001b[0mindex\u001b[0m\u001b[0;34m)\u001b[0m\u001b[0;34m:\u001b[0m\u001b[0;34m\u001b[0m\u001b[0;34m\u001b[0m\u001b[0m\n\u001b[1;32m     47\u001b[0m         \u001b[0;32mif\u001b[0m \u001b[0mindex\u001b[0m \u001b[0;34m<\u001b[0m \u001b[0;36m0\u001b[0m \u001b[0;32mor\u001b[0m \u001b[0mindex\u001b[0m \u001b[0;34m>=\u001b[0m \u001b[0mself\u001b[0m\u001b[0;34m.\u001b[0m\u001b[0mlength\u001b[0m\u001b[0;34m:\u001b[0m\u001b[0;34m\u001b[0m\u001b[0;34m\u001b[0m\u001b[0m\n\u001b[0;32m---> 48\u001b[0;31m             \u001b[0;32mraise\u001b[0m \u001b[0mException\u001b[0m\u001b[0;34m(\u001b[0m\u001b[0;34m\"Wrong\"\u001b[0m\u001b[0;34m)\u001b[0m\u001b[0;34m\u001b[0m\u001b[0;34m\u001b[0m\u001b[0m\n\u001b[0m\u001b[1;32m     49\u001b[0m \u001b[0;34m\u001b[0m\u001b[0m\n\u001b[1;32m     50\u001b[0m         \u001b[0mcurnode\u001b[0m \u001b[0;34m=\u001b[0m \u001b[0mself\u001b[0m\u001b[0;34m.\u001b[0m\u001b[0mroot\u001b[0m\u001b[0;34m.\u001b[0m\u001b[0mnext_node\u001b[0m\u001b[0;34m\u001b[0m\u001b[0;34m\u001b[0m\u001b[0m\n",
      "\u001b[0;31mException\u001b[0m: Wrong"
     ]
    }
   ],
   "source": [
    "listStack.peek()"
   ]
  },
  {
   "cell_type": "code",
   "execution_count": null,
   "id": "2cd4f67c",
   "metadata": {},
   "outputs": [],
   "source": []
  },
  {
   "cell_type": "markdown",
   "id": "b823030d",
   "metadata": {},
   "source": [
    "## 链表实现队列\n"
   ]
  },
  {
   "cell_type": "markdown",
   "id": "bb36bde6",
   "metadata": {},
   "source": [
    "## head: 出队 ; tail: 入列！"
   ]
  },
  {
   "cell_type": "code",
   "execution_count": 721,
   "id": "a45da494",
   "metadata": {},
   "outputs": [],
   "source": [
    "class Node:\n",
    "    \n",
    "    def __init__(self, value=None, next_node=None):\n",
    "        self.value = value\n",
    "        self.next_node = next_node"
   ]
  },
  {
   "cell_type": "code",
   "execution_count": 722,
   "id": "19f9777a",
   "metadata": {},
   "outputs": [],
   "source": [
    "class LinkedListQueue:\n",
    "    def __init__(self):\n",
    "        self.size = 0\n",
    "        self.head = Node() # no dummyHead\n",
    "        self.tail = None\n",
    "        \n",
    "    def __len__(self):    # 获取元素个数\n",
    "        return len(self.length)\n",
    "         \n",
    "      \n",
    "    def isEmpty(self):\n",
    "        if self.size == 0:\n",
    "            return True \n",
    "        else:  \n",
    "            return False\n",
    "    \n",
    "    def getSize(self):\n",
    "        return self.size\n",
    "\n",
    "    def enqueue(self, item):\n",
    "        if self.tail is None:\n",
    "            self.tail = Node(item)\n",
    "            self.head = Node(item)\n",
    "      \n",
    "        else:\n",
    "            \n",
    "            self.tail.next_node = Node(item)\n",
    "            self.tail = self.tail.next_node\n",
    "        \n",
    "        self.size += 1\n",
    "    \n",
    "    def dequeue(self):\n",
    "        if self.isEmpty():\n",
    "            raise Exception(\"Wrong\")\n",
    "        \n",
    "        delNode = self.head\n",
    "        val = delNode.value\n",
    "        self.head = self.head.next_node\n",
    "        del delNode\n",
    "        \n",
    "        if self.head is None:\n",
    "            del self.tail\n",
    "        \n",
    "        self.size -= 1\n",
    "        return val\n",
    "    def getFront(self):\n",
    "        if self.isEmpty():\n",
    "            raise Exception(\"Wrong\")\n",
    "        return self.head.value"
   ]
  },
  {
   "cell_type": "code",
   "execution_count": 709,
   "id": "6b7e51e9",
   "metadata": {},
   "outputs": [],
   "source": [
    "myqueue = LinkedListQueue()"
   ]
  },
  {
   "cell_type": "code",
   "execution_count": 710,
   "id": "7fb74e06",
   "metadata": {},
   "outputs": [],
   "source": [
    "myqueue.enqueue(1)"
   ]
  },
  {
   "cell_type": "code",
   "execution_count": 711,
   "id": "fc8815d6",
   "metadata": {},
   "outputs": [],
   "source": [
    "myqueue.enqueue(2)"
   ]
  },
  {
   "cell_type": "code",
   "execution_count": 712,
   "id": "1f12eb2f",
   "metadata": {},
   "outputs": [],
   "source": [
    "myqueue.enqueue(3)"
   ]
  },
  {
   "cell_type": "code",
   "execution_count": 719,
   "id": "dc7661b2",
   "metadata": {},
   "outputs": [
    {
     "ename": "AttributeError",
     "evalue": "'NoneType' object has no attribute 'value'",
     "output_type": "error",
     "traceback": [
      "\u001b[0;31m---------------------------------------------------------------------------\u001b[0m",
      "\u001b[0;31mAttributeError\u001b[0m                            Traceback (most recent call last)",
      "\u001b[0;32m<ipython-input-719-fa00a6439bf1>\u001b[0m in \u001b[0;36m<module>\u001b[0;34m\u001b[0m\n\u001b[0;32m----> 1\u001b[0;31m \u001b[0mmyqueue\u001b[0m\u001b[0;34m.\u001b[0m\u001b[0mhead\u001b[0m\u001b[0;34m.\u001b[0m\u001b[0mvalue\u001b[0m\u001b[0;34m\u001b[0m\u001b[0;34m\u001b[0m\u001b[0m\n\u001b[0m",
      "\u001b[0;31mAttributeError\u001b[0m: 'NoneType' object has no attribute 'value'"
     ]
    }
   ],
   "source": [
    "myqueue.head.value"
   ]
  },
  {
   "cell_type": "code",
   "execution_count": 718,
   "id": "70b7ad3f",
   "metadata": {},
   "outputs": [
    {
     "ename": "AttributeError",
     "evalue": "'LinkedListQueue' object has no attribute 'tail'",
     "output_type": "error",
     "traceback": [
      "\u001b[0;31m---------------------------------------------------------------------------\u001b[0m",
      "\u001b[0;31mAttributeError\u001b[0m                            Traceback (most recent call last)",
      "\u001b[0;32m<ipython-input-718-0aca45b34977>\u001b[0m in \u001b[0;36m<module>\u001b[0;34m\u001b[0m\n\u001b[0;32m----> 1\u001b[0;31m \u001b[0mmyqueue\u001b[0m\u001b[0;34m.\u001b[0m\u001b[0mtail\u001b[0m\u001b[0;34m.\u001b[0m\u001b[0mvalue\u001b[0m\u001b[0;34m\u001b[0m\u001b[0;34m\u001b[0m\u001b[0m\n\u001b[0m",
      "\u001b[0;31mAttributeError\u001b[0m: 'LinkedListQueue' object has no attribute 'tail'"
     ]
    }
   ],
   "source": [
    "myqueue.tail.value"
   ]
  },
  {
   "cell_type": "code",
   "execution_count": 715,
   "id": "4b75397b",
   "metadata": {},
   "outputs": [
    {
     "data": {
      "text/plain": [
       "3"
      ]
     },
     "execution_count": 715,
     "metadata": {},
     "output_type": "execute_result"
    }
   ],
   "source": [
    "myqueue.getSize()"
   ]
  },
  {
   "cell_type": "code",
   "execution_count": 716,
   "id": "629acd4d",
   "metadata": {},
   "outputs": [
    {
     "data": {
      "text/plain": [
       "1"
      ]
     },
     "execution_count": 716,
     "metadata": {},
     "output_type": "execute_result"
    }
   ],
   "source": [
    "myqueue.getFront()"
   ]
  },
  {
   "cell_type": "code",
   "execution_count": 717,
   "id": "dcea7d33",
   "metadata": {},
   "outputs": [
    {
     "data": {
      "text/plain": [
       "1"
      ]
     },
     "execution_count": 717,
     "metadata": {},
     "output_type": "execute_result"
    }
   ],
   "source": [
    "myqueue.dequeue()"
   ]
  },
  {
   "cell_type": "code",
   "execution_count": 723,
   "id": "e57ce050",
   "metadata": {},
   "outputs": [],
   "source": [
    "def test_queue():\n",
    "    myqueue = LinkedListQueue()\n",
    "    \n",
    "    myqueue.enqueue(1)\n",
    "    assert myqueue.head.value == 1\n",
    "    \n",
    "    myqueue.enqueue(2)\n",
    "    assert myqueue.head.value == 1 and myqueue.tail.value == 2\n",
    "    \n",
    "    myqueue.enqueue(3)\n",
    "    \n",
    "    assert myqueue.getSize() == 3\n",
    "    assert myqueue.getFront() == 1\n",
    "    \n",
    "    assert myqueue.dequeue() == 1\n",
    "    \n",
    "    assert myqueue.head.value == 2\n",
    "    "
   ]
  },
  {
   "cell_type": "code",
   "execution_count": 724,
   "id": "4693d6e4",
   "metadata": {},
   "outputs": [
    {
     "ename": "AttributeError",
     "evalue": "'NoneType' object has no attribute 'value'",
     "output_type": "error",
     "traceback": [
      "\u001b[0;31m---------------------------------------------------------------------------\u001b[0m",
      "\u001b[0;31mAttributeError\u001b[0m                            Traceback (most recent call last)",
      "\u001b[0;32m<ipython-input-724-f4950457f2fa>\u001b[0m in \u001b[0;36m<module>\u001b[0;34m\u001b[0m\n\u001b[0;32m----> 1\u001b[0;31m \u001b[0mtest_queue\u001b[0m\u001b[0;34m(\u001b[0m\u001b[0;34m)\u001b[0m\u001b[0;34m\u001b[0m\u001b[0;34m\u001b[0m\u001b[0m\n\u001b[0m",
      "\u001b[0;32m<ipython-input-723-0c9713758bfe>\u001b[0m in \u001b[0;36mtest_queue\u001b[0;34m()\u001b[0m\n\u001b[1;32m     15\u001b[0m     \u001b[0;32massert\u001b[0m \u001b[0mmyqueue\u001b[0m\u001b[0;34m.\u001b[0m\u001b[0mdequeue\u001b[0m\u001b[0;34m(\u001b[0m\u001b[0;34m)\u001b[0m \u001b[0;34m==\u001b[0m \u001b[0;36m1\u001b[0m\u001b[0;34m\u001b[0m\u001b[0;34m\u001b[0m\u001b[0m\n\u001b[1;32m     16\u001b[0m \u001b[0;34m\u001b[0m\u001b[0m\n\u001b[0;32m---> 17\u001b[0;31m     \u001b[0;32massert\u001b[0m \u001b[0mmyqueue\u001b[0m\u001b[0;34m.\u001b[0m\u001b[0mhead\u001b[0m\u001b[0;34m.\u001b[0m\u001b[0mvalue\u001b[0m \u001b[0;34m==\u001b[0m \u001b[0;36m2\u001b[0m\u001b[0;34m\u001b[0m\u001b[0;34m\u001b[0m\u001b[0m\n\u001b[0m\u001b[1;32m     18\u001b[0m \u001b[0;34m\u001b[0m\u001b[0m\n",
      "\u001b[0;31mAttributeError\u001b[0m: 'NoneType' object has no attribute 'value'"
     ]
    }
   ],
   "source": [
    "test_queue()"
   ]
  },
  {
   "cell_type": "markdown",
   "id": "34a31874",
   "metadata": {},
   "source": [
    "## 链表与递归"
   ]
  },
  {
   "cell_type": "markdown",
   "id": "19858c75",
   "metadata": {},
   "source": [
    "### leetcode 203 删除链表元素"
   ]
  },
  {
   "cell_type": "code",
   "execution_count": null,
   "id": "50dc29d5",
   "metadata": {},
   "outputs": [],
   "source": []
  }
 ],
 "metadata": {
  "kernelspec": {
   "display_name": "Python 3",
   "language": "python",
   "name": "python3"
  },
  "language_info": {
   "codemirror_mode": {
    "name": "ipython",
    "version": 3
   },
   "file_extension": ".py",
   "mimetype": "text/x-python",
   "name": "python",
   "nbconvert_exporter": "python",
   "pygments_lexer": "ipython3",
   "version": "3.8.8"
  }
 },
 "nbformat": 4,
 "nbformat_minor": 5
}
