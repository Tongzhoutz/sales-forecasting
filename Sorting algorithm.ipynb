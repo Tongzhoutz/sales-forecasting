{
 "cells": [
  {
   "cell_type": "markdown",
   "id": "ba900ff6",
   "metadata": {},
   "source": []
  },
  {
   "cell_type": "markdown",
   "id": "b8d84970",
   "metadata": {},
   "source": [
    "# simple sorting"
   ]
  },
  {
   "cell_type": "code",
   "execution_count": 2,
   "id": "7b6248af",
   "metadata": {},
   "outputs": [],
   "source": [
    "arr = [3, 2, 5, 7]"
   ]
  },
  {
   "cell_type": "code",
   "execution_count": 3,
   "id": "91397360",
   "metadata": {},
   "outputs": [],
   "source": [
    "def simple_sorting(array):\n",
    "    for i in range(len(arr)):\n",
    "        for j in range(i+1, len(arr)):\n",
    "            if arr[i] > arr[j]:\n",
    "                arr[i], arr[j] = arr[j], arr[i]\n",
    "    return array"
   ]
  },
  {
   "cell_type": "code",
   "execution_count": 4,
   "id": "68ec14e6",
   "metadata": {},
   "outputs": [
    {
     "data": {
      "text/plain": [
       "[2, 3, 5, 7]"
      ]
     },
     "execution_count": 4,
     "metadata": {},
     "output_type": "execute_result"
    }
   ],
   "source": [
    "simple_sorting(arr)"
   ]
  },
  {
   "cell_type": "code",
   "execution_count": 5,
   "id": "7dd204b7",
   "metadata": {},
   "outputs": [
    {
     "name": "stdout",
     "output_type": "stream",
     "text": [
      "[ 0.59752695 -1.15079948  0.46426681 -0.18344682 -0.37286303 -0.44051531\n",
      "  0.3482513  -0.34149691  0.54655787 -0.20479433  0.71578172  1.97069339\n",
      " -0.04303909  0.73879809 -0.98825696]\n"
     ]
    }
   ],
   "source": [
    "import numpy as np\n",
    "arr = np.random.randn(15)\n",
    "print(arr)"
   ]
  },
  {
   "cell_type": "code",
   "execution_count": 7,
   "id": "8dd6e3e7",
   "metadata": {},
   "outputs": [
    {
     "data": {
      "text/plain": [
       "array([-1.15079948, -0.98825696, -0.44051531, -0.37286303, -0.34149691,\n",
       "       -0.20479433, -0.18344682, -0.04303909,  0.3482513 ,  0.46426681,\n",
       "        0.54655787,  0.59752695,  0.71578172,  0.73879809,  1.97069339])"
      ]
     },
     "execution_count": 7,
     "metadata": {},
     "output_type": "execute_result"
    }
   ],
   "source": [
    "simple_sorting(arr)"
   ]
  },
  {
   "cell_type": "markdown",
   "id": "80eaa340",
   "metadata": {},
   "source": [
    "## bubble sorting"
   ]
  },
  {
   "cell_type": "code",
   "execution_count": 1,
   "id": "69e64d8a",
   "metadata": {},
   "outputs": [],
   "source": [
    "arr = [3, 7, 6, 1, 1999, 8, 5, 0, 2, 4]"
   ]
  },
  {
   "cell_type": "code",
   "execution_count": 2,
   "id": "9c26457c",
   "metadata": {},
   "outputs": [],
   "source": [
    "for i in range(len(arr)-1):\n",
    "    for j in range(len(arr)-1):\n",
    "        if arr[j] > arr[j+1]:\n",
    "            arr[j], arr[j+1] = arr[j+1], arr[j]\n",
    "        "
   ]
  },
  {
   "cell_type": "code",
   "execution_count": 3,
   "id": "26ba46f9",
   "metadata": {},
   "outputs": [
    {
     "data": {
      "text/plain": [
       "[0, 1, 2, 3, 4, 5, 6, 7, 8, 1999]"
      ]
     },
     "execution_count": 3,
     "metadata": {},
     "output_type": "execute_result"
    }
   ],
   "source": [
    "arr"
   ]
  },
  {
   "cell_type": "markdown",
   "id": "7bf16aaa",
   "metadata": {},
   "source": [
    "## method 2: while + for"
   ]
  },
  {
   "cell_type": "markdown",
   "id": "1be06e1b",
   "metadata": {},
   "source": [
    "# selection sorting"
   ]
  },
  {
   "cell_type": "code",
   "execution_count": 23,
   "id": "3b995c51",
   "metadata": {},
   "outputs": [],
   "source": [
    "arr = [20, 12, 10, 15, 2,3, 111, 333, 35]"
   ]
  },
  {
   "cell_type": "code",
   "execution_count": 24,
   "id": "b773783d",
   "metadata": {},
   "outputs": [],
   "source": [
    "# 原地排序， 不浪费空间\n",
    "\n",
    "def selection_sort(arr):\n",
    "    for j in range(len(arr)):\n",
    "        mini_idx = j\n",
    "        for i in range(j+1, len(arr)):\n",
    "            if arr[i] < arr[mini_idx]:\n",
    "                mini_idx = i\n",
    "\n",
    "        arr[j], arr[mini_idx] = arr[mini_idx], arr[j]\n",
    "    return arr\n"
   ]
  },
  {
   "cell_type": "code",
   "execution_count": 28,
   "id": "fd607cf8",
   "metadata": {},
   "outputs": [],
   "source": [
    "import numpy as np\n"
   ]
  },
  {
   "cell_type": "code",
   "execution_count": 35,
   "id": "575e0405",
   "metadata": {},
   "outputs": [
    {
     "data": {
      "text/plain": [
       "[239, 250, 315, 522, 551, 644, 748, 919, 951, 975]"
      ]
     },
     "execution_count": 35,
     "metadata": {},
     "output_type": "execute_result"
    }
   ],
   "source": [
    "selection_sort([x for x in np.random.randint(10, 1000, 10 )])"
   ]
  },
  {
   "cell_type": "code",
   "execution_count": 37,
   "id": "bfd1342a",
   "metadata": {},
   "outputs": [
    {
     "data": {
      "text/plain": [
       "['abc', 'ddd']"
      ]
     },
     "execution_count": 37,
     "metadata": {},
     "output_type": "execute_result"
    }
   ],
   "source": [
    "selection_sort([\"abc\", \"ddd\"]) # 支持字符串"
   ]
  },
  {
   "cell_type": "code",
   "execution_count": 50,
   "id": "13f434a6",
   "metadata": {},
   "outputs": [
    {
     "name": "stdout",
     "output_type": "stream",
     "text": [
      "9\n",
      "8\n",
      "7\n",
      "6\n",
      "5\n",
      "4\n",
      "3\n",
      "2\n",
      "1\n",
      "0\n"
     ]
    }
   ],
   "source": [
    "a = range(10)\n",
    "for _ in range(10-1,-1,-1):\n",
    "    print(_)"
   ]
  },
  {
   "cell_type": "markdown",
   "id": "adaed4ed",
   "metadata": {},
   "source": [
    "### 换个方式排序：后面先排？"
   ]
  },
  {
   "cell_type": "code",
   "execution_count": 52,
   "id": "b8f0ed0b",
   "metadata": {},
   "outputs": [],
   "source": [
    "def sort_selection(arr):\n",
    "    for i in range(len(arr)-1,-1,-1):\n",
    "        maxIndex = i \n",
    "        for j in range(i-1, -1, -1):\n",
    "            if arr[j] > arr[maxIndex]:\n",
    "                maxIndex = j\n",
    "        arr[maxIndex], arr[i] = arr[i], arr[maxIndex]\n",
    "    return arr"
   ]
  },
  {
   "cell_type": "code",
   "execution_count": 53,
   "id": "79aa8a68",
   "metadata": {},
   "outputs": [
    {
     "data": {
      "text/plain": [
       "[2, 3, 10, 12, 15, 20, 35, 111, 333]"
      ]
     },
     "execution_count": 53,
     "metadata": {},
     "output_type": "execute_result"
    }
   ],
   "source": [
    "arr"
   ]
  },
  {
   "cell_type": "code",
   "execution_count": 54,
   "id": "4721a570",
   "metadata": {},
   "outputs": [
    {
     "data": {
      "text/plain": [
       "[2, 3, 10, 12, 15, 20, 35, 111, 333]"
      ]
     },
     "execution_count": 54,
     "metadata": {},
     "output_type": "execute_result"
    }
   ],
   "source": [
    "sort_selection(arr)"
   ]
  },
  {
   "cell_type": "markdown",
   "id": "d8fbcaaf",
   "metadata": {},
   "source": [
    "## encapulate to a function"
   ]
  },
  {
   "cell_type": "code",
   "execution_count": null,
   "id": "e390aad4",
   "metadata": {},
   "outputs": [],
   "source": [
    "arr = [20, 12, 10, 15, 2,3, 111, 333, 33]"
   ]
  },
  {
   "cell_type": "code",
   "execution_count": 146,
   "id": "ad61c3cd",
   "metadata": {},
   "outputs": [],
   "source": [
    "def selectiong_sort(arr):\n",
    "    for j in range(len(arr)):\n",
    "        mini_idx = j\n",
    "        for i in range(j+1,len(arr)):\n",
    "            if arr[i] < arr[mini_idx]:\n",
    "                mini_idx = i\n",
    "        arr[j], arr[mini_idx] = arr[mini_idx], arr[j]\n",
    "    return arr"
   ]
  },
  {
   "cell_type": "code",
   "execution_count": 147,
   "id": "07066771",
   "metadata": {},
   "outputs": [
    {
     "data": {
      "text/plain": [
       "[2, 3, 10, 12, 15, 20, 33, 111, 333]"
      ]
     },
     "execution_count": 147,
     "metadata": {},
     "output_type": "execute_result"
    }
   ],
   "source": [
    "selectiong_sort(arr)"
   ]
  },
  {
   "cell_type": "markdown",
   "id": "a5e7a4a7",
   "metadata": {},
   "source": [
    "## insection sorting"
   ]
  },
  {
   "cell_type": "code",
   "execution_count": 123,
   "id": "c4a6e825",
   "metadata": {},
   "outputs": [],
   "source": [
    "arr = [3, 7, 6, 1, 90, 8, 5, 0, 2, 4]"
   ]
  },
  {
   "cell_type": "code",
   "execution_count": 124,
   "id": "089dcf8c",
   "metadata": {},
   "outputs": [],
   "source": [
    "def insection_sort(arr):\n",
    "    i = 0\n",
    "    while i < len(arr):\n",
    "        for j in range(i,0,-1): # 注意0\n",
    "            if arr[j] < arr[j-1]:\n",
    "                arr[j], arr[j-1] = arr[j-1], arr[j]\n",
    "            else:\n",
    "                break\n",
    "\n",
    "        i += 1\n",
    "    return arr\n",
    "        "
   ]
  },
  {
   "cell_type": "code",
   "execution_count": 125,
   "id": "05182104",
   "metadata": {},
   "outputs": [],
   "source": [
    "arr = [x for x in np.random.randint(10, 100, 15)]"
   ]
  },
  {
   "cell_type": "code",
   "execution_count": 126,
   "id": "b804b2bc",
   "metadata": {
    "scrolled": true
   },
   "outputs": [
    {
     "data": {
      "text/plain": [
       "[18, 22, 22, 32, 32, 39, 43, 50, 51, 52, 64, 65, 77, 90, 97]"
      ]
     },
     "execution_count": 126,
     "metadata": {},
     "output_type": "execute_result"
    }
   ],
   "source": [
    "insection_sort(arr)"
   ]
  },
  {
   "cell_type": "code",
   "execution_count": 121,
   "id": "8f9de057",
   "metadata": {},
   "outputs": [],
   "source": [
    "def reverse_insertion(arr):\n",
    "    for i in range(len(arr)-1, 0, -1):\n",
    "        for j in range(i, len(arr)-1):\n",
    "            if arr[i] > arr[i+1]:\n",
    "                arr[i], arr[i+1] = arr[i+1], arr[i]\n",
    "    return arr"
   ]
  },
  {
   "cell_type": "code",
   "execution_count": 122,
   "id": "06976de2",
   "metadata": {},
   "outputs": [
    {
     "data": {
      "text/plain": [
       "[19, 22, 31, 36, 38, 45, 52, 57, 59, 61, 64, 67, 81, 87, 96]"
      ]
     },
     "execution_count": 122,
     "metadata": {},
     "output_type": "execute_result"
    }
   ],
   "source": [
    "reverse_insertion(arr)"
   ]
  },
  {
   "cell_type": "markdown",
   "id": "64fef6cb",
   "metadata": {},
   "source": [
    "### 优化"
   ]
  },
  {
   "cell_type": "markdown",
   "id": "9bb5f440",
   "metadata": {},
   "source": [
    "# 字典排序"
   ]
  },
  {
   "cell_type": "markdown",
   "id": "12de1b9e",
   "metadata": {},
   "source": [
    "### method 1: sorted函数 + 匿名函数lambda"
   ]
  },
  {
   "cell_type": "code",
   "execution_count": 8,
   "id": "b7abf407",
   "metadata": {},
   "outputs": [],
   "source": [
    "kids = [\n",
    "    {'name': 'xiaoming', 'score': 99, 'age': 12},\n",
    "    {'name': 'xiaohong', 'score': 75, 'age': 13},\n",
    "    {'name': 'xiaowang', 'score': 88, 'age': 15}\n",
    "]"
   ]
  },
  {
   "cell_type": "code",
   "execution_count": 10,
   "id": "719fc957",
   "metadata": {},
   "outputs": [
    {
     "data": {
      "text/plain": [
       "array([-1.15079948, -0.98825696, -0.44051531, -0.37286303, -0.34149691,\n",
       "       -0.20479433, -0.18344682, -0.04303909,  0.3482513 ,  0.46426681,\n",
       "        0.54655787,  0.59752695,  0.71578172,  0.73879809,  1.97069339])"
      ]
     },
     "execution_count": 10,
     "metadata": {},
     "output_type": "execute_result"
    }
   ],
   "source": [
    "arr"
   ]
  },
  {
   "cell_type": "code",
   "execution_count": 15,
   "id": "09a7402f",
   "metadata": {},
   "outputs": [
    {
     "data": {
      "text/plain": [
       "[{'name': 'xiaohong', 'score': 75, 'age': 13},\n",
       " {'name': 'xiaoming', 'score': 99, 'age': 12},\n",
       " {'name': 'xiaowang', 'score': 88, 'age': 15}]"
      ]
     },
     "execution_count": 15,
     "metadata": {},
     "output_type": "execute_result"
    }
   ],
   "source": [
    "sorted(kids, key = lambda x: (x['name'], x['score']) )"
   ]
  },
  {
   "cell_type": "markdown",
   "id": "3368a27b",
   "metadata": {},
   "source": [
    "### method 2: operator => itemgetter"
   ]
  },
  {
   "cell_type": "code",
   "execution_count": 16,
   "id": "dd1056ec",
   "metadata": {},
   "outputs": [],
   "source": [
    "from operator import itemgetter"
   ]
  },
  {
   "cell_type": "code",
   "execution_count": 19,
   "id": "a886139e",
   "metadata": {},
   "outputs": [
    {
     "data": {
      "text/plain": [
       "[{'name': 'xiaohong', 'score': 75, 'age': 13},\n",
       " {'name': 'xiaoming', 'score': 99, 'age': 12},\n",
       " {'name': 'xiaowang', 'score': 88, 'age': 15}]"
      ]
     },
     "execution_count": 19,
     "metadata": {},
     "output_type": "execute_result"
    }
   ],
   "source": [
    "sorted(kids, key=itemgetter('name'))"
   ]
  },
  {
   "cell_type": "code",
   "execution_count": 151,
   "id": "4c2d3c6e",
   "metadata": {},
   "outputs": [],
   "source": [
    "import numpy as np"
   ]
  },
  {
   "cell_type": "code",
   "execution_count": 154,
   "id": "bfd9657a",
   "metadata": {},
   "outputs": [
    {
     "data": {
      "text/plain": [
       "2.772588722239781"
      ]
     },
     "execution_count": 154,
     "metadata": {},
     "output_type": "execute_result"
    }
   ],
   "source": [
    "np.log(16)"
   ]
  },
  {
   "cell_type": "markdown",
   "id": "f026da19",
   "metadata": {},
   "source": [
    "# MergSort"
   ]
  },
  {
   "cell_type": "code",
   "execution_count": 8,
   "id": "bb3a45cf",
   "metadata": {},
   "outputs": [],
   "source": [
    "import math"
   ]
  },
  {
   "cell_type": "code",
   "execution_count": 18,
   "id": "89da0e59",
   "metadata": {},
   "outputs": [],
   "source": [
    "def merge_sort(arr):\n",
    "    \n",
    "    n = len(arr)\n",
    "    if n <= 1:\n",
    "        return arr\n",
    "    \n",
    "    mid = n // 2\n",
    "    \n",
    "    L_part, R_part = arr[:mid], arr[mid:]\n",
    "    \n",
    "    n_l, n_r = len(L_part), len(R_part)\n",
    "    \n",
    "    # if n is even, n_l == n_r. Otherwise, n_l < n_r\n",
    "\n",
    "    sorted_L = merge_sort(L_part)\n",
    "    sorted_R = merge_sort(R_part)\n",
    "    \n",
    "    sorted_L.append(math.inf)\n",
    "    sorted_R.append(math.inf)\n",
    "    \n",
    "    i, j = 0, 0\n",
    "    sorted_list = []\n",
    "    \n",
    "    while i < n_l or j < n_r :\n",
    "        \n",
    "        if sorted_L[i] <= sorted_R[j]:\n",
    "            sorted_list.append(sorted_L[i])\n",
    "            i += 1\n",
    "        else:\n",
    "            sorted_list.append(sorted_R[j])\n",
    "            j += 1\n",
    "    \n",
    "    return sorted_list\n",
    "    \n",
    "    \n",
    "    \n",
    "    "
   ]
  },
  {
   "cell_type": "code",
   "execution_count": 19,
   "id": "f264fe2b",
   "metadata": {},
   "outputs": [],
   "source": [
    "arr = [3, 3, 4, 2, 1, 44, 55, 333]"
   ]
  },
  {
   "cell_type": "code",
   "execution_count": 20,
   "id": "ef8a4479",
   "metadata": {},
   "outputs": [
    {
     "data": {
      "text/plain": [
       "[1, 2, 3, 3, 4, 44, 55, 333]"
      ]
     },
     "execution_count": 20,
     "metadata": {},
     "output_type": "execute_result"
    }
   ],
   "source": [
    "merge_sort(arr)"
   ]
  },
  {
   "cell_type": "code",
   "execution_count": null,
   "id": "2f733fd9",
   "metadata": {},
   "outputs": [],
   "source": []
  }
 ],
 "metadata": {
  "kernelspec": {
   "display_name": "Python 3",
   "language": "python",
   "name": "python3"
  },
  "language_info": {
   "codemirror_mode": {
    "name": "ipython",
    "version": 3
   },
   "file_extension": ".py",
   "mimetype": "text/x-python",
   "name": "python",
   "nbconvert_exporter": "python",
   "pygments_lexer": "ipython3",
   "version": "3.8.8"
  }
 },
 "nbformat": 4,
 "nbformat_minor": 5
}
