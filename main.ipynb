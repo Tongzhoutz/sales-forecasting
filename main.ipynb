{
 "cells": [
  {
   "cell_type": "markdown",
   "metadata": {
    "toc-hr-collapsed": false
   },
   "source": [
    "# Kaggle沃尔玛销售预测"
   ]
  },
  {
   "cell_type": "markdown",
   "metadata": {},
   "source": [
    "##### 辅助函数和包"
   ]
  },
  {
   "cell_type": "code",
   "execution_count": 2,
   "metadata": {},
   "outputs": [],
   "source": [
    "import numpy as np\n",
    "import pandas as pd\n",
    "import os, sys, gc, time, warnings, pickle, psutil, random\n",
    "from math import ceil\n",
    "from sklearn.preprocessing import LabelEncode\n",
    "from source.memory import sizeof_fmt, get_memory_usagel, reduce_mem_usage\n",
    "from source.pd_merger import merge_by_concat\n",
    "from source.parallel import df_parallelize_run\n",
    "warnings.filterwarnings('ignore')"
   ]
  },
  {
   "cell_type": "markdown",
   "metadata": {},
   "source": [
    "##### 代码目录\n",
    "![title](https://cdn.nlark.com/yuque/0/2020/png/1301375/1591948575891-db9a4654-bfd1-4bf3-aa33-433dab71c6ed.png)\n",
    "> （安装jupyter插件TOC（table of content）后可跳转查看）\n"
   ]
  },
  {
   "cell_type": "markdown",
   "metadata": {},
   "source": [
    "# 第一部分：特征工程"
   ]
  },
  {
   "cell_type": "markdown",
   "metadata": {
    "toc-hr-collapsed": false
   },
   "source": [
    "## 1. 建立基本特征"
   ]
  },
  {
   "cell_type": "code",
   "execution_count": 6,
   "metadata": {
    "_cell_guid": "79c7e3d0-c299-4dcb-8224-4455121ee9b0",
    "_uuid": "d629ff2d2480ee46fbb7e2d37f6b5fab8052498a"
   },
   "outputs": [],
   "source": [
    "########## 定义常量 ##########\n",
    "TARGET = 'sales'         # 销售预测目标列\n",
    "END_TRAIN = 1913         # 训练集的最后一天\n",
    "KEY_INDEX = ['id','d']   # 主键"
   ]
  },
  {
   "cell_type": "code",
   "execution_count": 7,
   "metadata": {},
   "outputs": [
    {
     "name": "stdout",
     "output_type": "stream",
     "text": [
      "Loading Main Data: \n"
     ]
    }
   ],
   "source": [
    "########## 导入数据 ##########\n",
    "print('Loading Main Data: ')\n",
    "train_df = pd.read_csv('./Input/sales_train_validation.csv') # 主要时间序列面板数据\n",
    "prices_df = pd.read_csv('./Input/sell_prices.csv') # 价格信息\n",
    "calendar_df = pd.read_csv('./Input/calendar.csv') # 节假日信息"
   ]
  },
  {
   "cell_type": "markdown",
   "metadata": {},
   "source": [
    "### 1.1 转换数据并减少内存消耗"
   ]
  },
  {
   "cell_type": "code",
   "execution_count": 9,
   "metadata": {},
   "outputs": [
    {
     "name": "stdout",
     "output_type": "stream",
     "text": [
      "Part 1: Basic transformatio: \n"
     ]
    }
   ],
   "source": [
    "print('Part 1: Basic transformatio: ')\n",
    "index_columns = ['id','item_id','dept_id','cat_id','store_id','state_id']\n",
    "data_df = pd.melt(train_df, \n",
    "                  id_定义常量 = index_columns, \n",
    "                  var_name = 'd', \n",
    "                  value_name = TARGET)"
   ]
  },
  {
   "cell_type": "code",
   "execution_count": null,
   "metadata": {},
   "outputs": [],
   "source": [
    "grid_test = pd.DataFrame()\n",
    "for i in range(1,29):\n",
    "    temp_df = train_df[index_columns]\n",
    "    temp_df = temp_df\n",
    "    temp_df['d'] = 'd_'+ str(END_TRAIN+i) \n",
    "    temp_df[TARGET] = np.nan\n",
    "    grid_test = pd.concat([grid_test,temp_df])"
   ]
  },
  {
   "cell_type": "code",
   "execution_count": 12,
   "metadata": {},
   "outputs": [],
   "source": [
    "data_df = pd.concat([data_df,grid_test])\n",
    "data_df = data_df.reset_index(drop=True) # 现在的data_df是带测试集的长数据"
   ]
  },
  {
   "cell_type": "code",
   "execution_count": 13,
   "metadata": {},
   "outputs": [],
   "source": [
    "########## Remove dafaframe used up ##########\n",
    "del temp_df, grid_test, train_df"
   ]
  },
  {
   "cell_type": "code",
   "execution_count": 14,
   "metadata": {},
   "outputs": [
    {
     "name": "stdout",
     "output_type": "stream",
     "text": [
      "    Original grid_df:   3.5GiB\n",
      "     Reduced grid_df:   1.3GiB\n"
     ]
    }
   ],
   "source": [
    "########## 内存减小 ##########\n",
    "print(\"{:>20}: {:>8}\".format('Original data_df',sizeof_fmt(data_df.memory_usage(index=True).sum())))\n",
    "# 数据转换\n",
    "for col in index_columns:\n",
    "    data_df[col] = data_df[col].astype('category')\n",
    "print(\"{:>20}: {:>8}\".format('Reduced data_df',sizeof_fmt(data_df.memory_usage(index=True).sum())))"
   ]
  },
  {
   "cell_type": "code",
   "execution_count": 15,
   "metadata": {},
   "outputs": [],
   "source": [
    "########## 计算商品发售日期 ####################\n",
    "# 有些训练集中的销售为0 是在产品推行之前的销量，当然是0！\n",
    "release_df = prices_df.groupby(['store_id','item_id'])['wm_yr_wk'].agg(['min']).reset_index()\n",
    "release_df.columns = ['store_id','item_id','release']\n",
    "data_df = merge_by_concat(data_df, release_df, ['store_id','item_id'])\n",
    "del release_df"
   ]
  },
  {
   "cell_type": "code",
   "execution_count": 16,
   "metadata": {},
   "outputs": [
    {
     "name": "stdout",
     "output_type": "stream",
     "text": [
      "    Original grid_df:   1.7GiB\n",
      "     Reduced grid_df:   1.5GiB\n"
     ]
    }
   ],
   "source": [
    "########## 删除未发售商品的0销量特征 ####################\n",
    "data_df = merge_by_concat(data_df, calendar_df[['wm_yr_wk','d']], ['d'])\n",
    "data_df = data_df[data_df['wm_yr_wk']>=data_df['release']] # 只留下周数>=发行周的\n",
    "data_df = data_df.reset_index(drop=True)\n",
    "\n",
    "print(\"{:>20}: {:>8}\".format('Original data_df',sizeof_fmt(data_df.memory_usage(index=True).sum())))\n",
    "data_df['release'] = data_df['release'] - data_df['release'].min()\n",
    "data_df['release'] = data_df['release'].astype(np.int16)\n",
    "print(\"{:>20}: {:>8}\".format('Reduced data_df',sizeof_fmt(data_df.memory_usage(index=True).sum())))"
   ]
  },
  {
   "cell_type": "code",
   "execution_count": 17,
   "metadata": {},
   "outputs": [
    {
     "name": "stdout",
     "output_type": "stream",
     "text": [
      "Saving Part 1 as pickle\n",
      "Done! Size of part 1: (46881677, 10)\n"
     ]
    }
   ],
   "source": [
    "################ 储存第一部分 ################\n",
    "# 目前为止：data_df是一个转换为长数据、删除没必要的0销售的dataframe\n",
    "print('Saving Part 1 as pickle')\n",
    "data_df.to_pickle('./Processing/Features/Basic_FE/grid_part_1.pkl')\n",
    "print('Done! Size of part 1:', data_df.shape)\n",
    "del data_df"
   ]
  },
  {
   "cell_type": "markdown",
   "metadata": {
    "toc-hr-collapsed": true,
    "toc-nb-collapsed": true
   },
   "source": [
    "### 1.2 加入价格信息"
   ]
  },
  {
   "cell_type": "markdown",
   "metadata": {},
   "source": [
    "#### 1.2.1 基本价格信息"
   ]
  },
  {
   "cell_type": "code",
   "execution_count": 18,
   "metadata": {},
   "outputs": [
    {
     "name": "stdout",
     "output_type": "stream",
     "text": [
      "Part 2: Prices\n"
     ]
    }
   ],
   "source": [
    "print('Part 2: Prices')\n",
    "data_df = pd.read_pickle('./Processing/Features/Basic_FE/grid_part_1.pkl')"
   ]
  },
  {
   "cell_type": "code",
   "execution_count": 19,
   "metadata": {},
   "outputs": [],
   "source": [
    "################ Basic aggregations ################\n",
    "# 每个商品价格的基本的特征\n",
    "prices_df['price_max'] = prices_df.groupby(['store_id','item_id'])['sell_price'].transform('max')\n",
    "prices_df['price_min'] = prices_df.groupby(['store_id','item_id'])['sell_price'].transform('min')\n",
    "prices_df['price_std'] = prices_df.groupby(['store_id','item_id'])['sell_price'].transform('std')\n",
    "prices_df['price_mean'] = prices_df.groupby(['store_id','item_id'])['sell_price'].transform('mean')\n",
    "\n",
    "# Normalization\n",
    "prices_df['price_norm'] = prices_df['sell_price']/prices_df['price_max']\n",
    "\n",
    "# 识别波动商品\n",
    "prices_df['price_nunique'] = prices_df.groupby(['store_id','item_id'])['sell_price'].transform('nunique')\n",
    "    # nunique: 每个商品有多少个不同的售价\n",
    "    # prices_df.iloc[prices_df[\"price_nunique\"].idxmax()]返回：有一个Food食品价格换了11次\n",
    "\n",
    "# 识别常见价格设定\n",
    "prices_df['item_nunique'] = prices_df.groupby(['store_id','sell_price'])['item_id'].transform('nunique')\n",
    "    # nunique: 每个售价 对应的商品有多少个\n",
    "    # prices_df.iloc[prices_df[\"item_nunique\"].idxmax()]返回：1.98元的商品有305个"
   ]
  },
  {
   "cell_type": "markdown",
   "metadata": {},
   "source": [
    "#### 1.2.2 价格特征滚动聚合"
   ]
  },
  {
   "cell_type": "code",
   "execution_count": 20,
   "metadata": {},
   "outputs": [],
   "source": [
    "################ Adding month/year to price_df ################ \n",
    "calendar_prices = calendar_df[['wm_yr_wk','month','year']].drop_duplicates(subset=['wm_yr_wk'])\n",
    "    # 每周 —— 都有对应的月和年的信息\n",
    "prices_df = prices_df.merge(calendar_prices[['wm_yr_wk','month','year']], on=['wm_yr_wk'], how='left')\n",
    "    # 每周作为键，merge到prices_df里面，这样每个售价就有价格信息了\n",
    "del calendar_prices"
   ]
  },
  {
   "cell_type": "code",
   "execution_count": 21,
   "metadata": {},
   "outputs": [],
   "source": [
    "################ Add price \"momentum\" ################\n",
    "# 可以捕捉到商品的降价、涨价信息，可能有周期性\n",
    "# 当周价格/上周价格\n",
    "prices_df['price_momentum'] = prices_df['sell_price']/prices_df.groupby(['store_id','item_id'])['sell_price'].transform(lambda x: x.shift(1))\n",
    "\n",
    "# 当周价格/当月价格（将来的售卖是未知的，但是价格已提前确定）\n",
    "prices_df['price_momentum_m'] = prices_df['sell_price']/prices_df.groupby(['store_id','item_id','month'])['sell_price'].transform('mean')\n",
    "\n",
    "# 当周价格/当年价格\n",
    "prices_df['price_momentum_y'] = prices_df['sell_price']/prices_df.groupby(['store_id','item_id','year'])['sell_price'].transform('mean')\n",
    "del prices_df['month'], prices_df['year']"
   ]
  },
  {
   "cell_type": "code",
   "execution_count": 22,
   "metadata": {},
   "outputs": [
    {
     "name": "stdout",
     "output_type": "stream",
     "text": [
      "Merge prices\n",
      "Memory usage decreased to 1789.88 Mb now, with (62.2% reduction saved)\n"
     ]
    }
   ],
   "source": [
    "################ Merge prices ################\n",
    "print('Merge prices')\n",
    "original_columns = list(data_df) # Merge price之前的grid\n",
    "data_df = data_df.merge(prices_df, on=['store_id','item_id','wm_yr_wk'], how='left')\n",
    "keep_columns = [col for col in list(data_df) if col not in original_columns]\n",
    "data_df = data_df[KEY_INDEX+keep_columns]\n",
    "data_df = reduce_mem_usage(data_df)  # 减小完内存后，现在的data_df有ID\\D，加上所有的price信息"
   ]
  },
  {
   "cell_type": "code",
   "execution_count": 23,
   "metadata": {},
   "outputs": [
    {
     "name": "stdout",
     "output_type": "stream",
     "text": [
      "Saving part 2\n",
      "Size: (46881677, 13)\n"
     ]
    }
   ],
   "source": [
    "################ Saving part 2 ################\n",
    "print('Saving part 2')\n",
    "data_df.to_pickle('./Processing/Features/Basic_FE/grid_part_2.pkl')\n",
    "print('Size:', data_df.shape)\n",
    "\n",
    "del prices_df,data_df"
   ]
  },
  {
   "cell_type": "markdown",
   "metadata": {},
   "source": [
    "#### 1.2.3 总结"
   ]
  },
  {
   "cell_type": "code",
   "execution_count": 24,
   "metadata": {},
   "outputs": [],
   "source": [
    "################ Merge calendar ################ \n",
    "data_df = pd.read_pickle('./Processing/Features/Basic_FE/grid_part_1.pkl')\n",
    "data_df = data_df[KEY_INDEX]"
   ]
  },
  {
   "cell_type": "code",
   "execution_count": 25,
   "metadata": {},
   "outputs": [],
   "source": [
    "icols = ['date',\n",
    "         'd',\n",
    "         'event_name_1',\n",
    "         'event_type_1',\n",
    "         'event_name_2',\n",
    "         'event_type_2',\n",
    "         'snap_CA',\n",
    "         'snap_TX',\n",
    "         'snap_WI']\n",
    "\n",
    "data_df = data_df.merge(calendar_df[icols], on=['d'], how='left')"
   ]
  },
  {
   "cell_type": "code",
   "execution_count": 26,
   "metadata": {},
   "outputs": [],
   "source": [
    "################ Minify data ################ \n",
    "icols = ['event_name_1',\n",
    "         'event_type_1',\n",
    "         'event_name_2',\n",
    "         'event_type_2',\n",
    "         'snap_CA',\n",
    "         'snap_TX',\n",
    "         'snap_WI'] # 'snap_' columns本来是01\n",
    "for col in icols:\n",
    "    data_df[col] = data_df[col].astype('category')"
   ]
  },
  {
   "cell_type": "code",
   "execution_count": 27,
   "metadata": {},
   "outputs": [],
   "source": [
    "################ Date features ################ \n",
    "data_df['date'] = pd.to_datetime(data_df['date'])\n",
    "data_df['tm_d'] = data_df['date'].dt.day.astype(np.int8) # tm stands for time\n",
    "data_df['tm_w'] = data_df['date'].dt.week.astype(np.int8)\n",
    "data_df['tm_m'] = data_df['date'].dt.month.astype(np.int8)\n",
    "data_df['tm_y'] = data_df['date'].dt.year\n",
    "data_df['tm_y'] = (data_df['tm_y'] - data_df['tm_y'].min()).astype(np.int8)\n",
    "data_df['tm_wm'] = data_df['tm_d'].apply(lambda x: ceil(x/7)).astype(np.int8)# 这个月的第几周\n",
    "data_df['tm_dw'] = data_df['date'].dt.dayofweek.astype(np.int8) # 这个周的第几天（星期X）\n",
    "data_df['tm_w_end'] = (data_df['tm_dw']>=5).astype(np.int8) # 识别周末，转为01\n",
    "\n",
    "del data_df['date']"
   ]
  },
  {
   "cell_type": "code",
   "execution_count": 28,
   "metadata": {},
   "outputs": [
    {
     "name": "stdout",
     "output_type": "stream",
     "text": [
      "Save part 3\n",
      "Size: (46881677, 16)\n"
     ]
    }
   ],
   "source": [
    "################ 存储第三部分 ################\n",
    "print('Save part 3')\n",
    "data_df.to_pickle('./Processing/Features/Basic_FE/grid_part_3.pkl')\n",
    "print('Size:', data_df.shape)\n",
    "del calendar_df\n",
    "del data_df"
   ]
  },
  {
   "cell_type": "code",
   "execution_count": 29,
   "metadata": {},
   "outputs": [],
   "source": [
    "################ 原始数据中的“d”进行转换 ################\n",
    "data_df = pd.read_pickle('./Processing/Features/Basic_FE/grid_part_1.pkl')\n",
    "data_df['d'] = data_df['d'].apply(lambda x: x[2:]).astype(np.int16)\n",
    "\n",
    "del data_df['wm_yr_wk']\n",
    "\n",
    "data_df.to_pickle('./Processing/Features/Basic_FE/grid_part_1.pkl')\n",
    "del data_df"
   ]
  },
  {
   "cell_type": "code",
   "execution_count": 31,
   "metadata": {},
   "outputs": [
    {
     "name": "stdout",
     "output_type": "stream",
     "text": [
      "           Full Grid:   2.4GiB\n",
      "Size: (46881677, 34)\n"
     ]
    }
   ],
   "source": [
    "# 合并三组数据并检查内存\n",
    "import pandas as pd\n",
    "data_df = pd.concat([pd.read_pickle('./Processing/Features/Basic_FE/grid_part_1.pkl'),\n",
    "                     pd.read_pickle('./Processing/Features/Basic_FE/grid_part_2.pkl').iloc[:,2:],\n",
    "                     pd.read_pickle('./Processing/Features/Basic_FE/grid_part_3.pkl').iloc[:,2:]],\n",
    "                     axis=1)\n",
    "# Check memory usage\n",
    "print(\"{:>20}: {:>8}\".format('Full Grid',sizeof_fmt(data_df.memory_usage(index=True).sum())))\n",
    "print('Size:', data_df.shape)"
   ]
  },
  {
   "cell_type": "code",
   "execution_count": 32,
   "metadata": {},
   "outputs": [
    {
     "name": "stdout",
     "output_type": "stream",
     "text": [
      "<class 'pandas.core.frame.DataFrame'>\n",
      "RangeIndex: 46881677 entries, 0 to 46881676\n",
      "Data columns (total 34 columns):\n",
      " #   Column            Dtype   \n",
      "---  ------            -----   \n",
      " 0   id                category\n",
      " 1   item_id           category\n",
      " 2   dept_id           category\n",
      " 3   cat_id            category\n",
      " 4   store_id          category\n",
      " 5   state_id          category\n",
      " 6   d                 int16   \n",
      " 7   sales             float64 \n",
      " 8   release           int16   \n",
      " 9   sell_price        float16 \n",
      " 10  price_max         float16 \n",
      " 11  price_min         float16 \n",
      " 12  price_std         float16 \n",
      " 13  price_mean        float16 \n",
      " 14  price_norm        float16 \n",
      " 15  price_nunique     float16 \n",
      " 16  item_nunique      int16   \n",
      " 17  price_momentum    float16 \n",
      " 18  price_momentum_m  float16 \n",
      " 19  price_momentum_y  float16 \n",
      " 20  event_name_1      category\n",
      " 21  event_type_1      category\n",
      " 22  event_name_2      category\n",
      " 23  event_type_2      category\n",
      " 24  snap_CA           category\n",
      " 25  snap_TX           category\n",
      " 26  snap_WI           category\n",
      " 27  tm_d              int8    \n",
      " 28  tm_w              int8    \n",
      " 29  tm_m              int8    \n",
      " 30  tm_y              int8    \n",
      " 31  tm_wm             int8    \n",
      " 32  tm_dw             int8    \n",
      " 33  tm_w_end          int8    \n",
      "dtypes: category(13), float16(10), float64(1), int16(3), int8(7)\n",
      "memory usage: 2.4 GB\n"
     ]
    }
   ],
   "source": [
    "# 第一个特征汇总\n",
    "data_df.info()"
   ]
  },
  {
   "cell_type": "markdown",
   "metadata": {
    "toc-hr-collapsed": false
   },
   "source": [
    "## 2. 建立滞后阶特征"
   ]
  },
  {
   "cell_type": "markdown",
   "metadata": {},
   "source": [
    "### 2.1 数据读取并缩小内存"
   ]
  },
  {
   "cell_type": "code",
   "execution_count": 5,
   "metadata": {},
   "outputs": [
    {
     "name": "stdout",
     "output_type": "stream",
     "text": [
      "Main Data Loaded\n"
     ]
    }
   ],
   "source": [
    "######################### 获取数据 ##########################\n",
    "train_df = pd.read_csv('./Input/sales_train_validation.csv')\n",
    "train_df = train_df[train_df['state_id']=='CA']\n",
    "\n",
    "print('Main Data Loaded')"
   ]
  },
  {
   "cell_type": "code",
   "execution_count": 8,
   "metadata": {
    "_kg_hide-input": true,
    "_kg_hide-output": true
   },
   "outputs": [],
   "source": [
    "## 缩小内存\n",
    "train_df['d'] = train_df['d'].apply(lambda x: x[2:]).astype(np.int16)\n",
    "icols = ['id','item_id','dept_id','cat_id','store_id','state_id']\n",
    "for col in icols:\n",
    "    train_df[col] = train_df[col].astype('category')"
   ]
  },
  {
   "cell_type": "markdown",
   "metadata": {},
   "source": [
    "### 2.2 特征提取"
   ]
  },
  {
   "cell_type": "markdown",
   "metadata": {},
   "source": [
    "滞后阶特征示意图：\n",
    "![title](https://cdn.nlark.com/yuque/0/2020/png/1301375/1591948972174-0173ed53-0024-4647-96fb-722913c90254.png)\n",
    "Rollign特征示意图：\n",
    "![title](https://cdn.nlark.com/yuque/0/2020/png/1301375/1591948972174-0173ed53-0024-4647-96fb-722913c90254.png)"
   ]
  },
  {
   "cell_type": "code",
   "execution_count": 11,
   "metadata": {},
   "outputs": [
    {
     "name": "stdout",
     "output_type": "stream",
     "text": [
      "Create lags\n",
      "8.57 min: Lags\n",
      "Create rolling aggs\n",
      "Rolling period: 7\n",
      "Rolling period: 14\n",
      "Rolling period: 30\n",
      "Rolling period: 60\n",
      "Rolling period: 180\n",
      "Shifting period: 1\n",
      "Shifting period: 8\n",
      "Shifting period: 15\n",
      "46.06 min: Lags\n"
     ]
    }
   ],
   "source": [
    "data_df = pd.read_pickle('./Processing/Features/Basic_FE/grid_part_1.pkl')\n",
    "data_df = data_df[['id','d','sales']]\n",
    "SHIFT_DAY = 28\n",
    "start_time = time.time()\n",
    "print('Create lags')\n",
    "\n",
    "# 第一种lag：创建从28～28+14 的lags\n",
    "LAG_DAYS = [col for col in range(SHIFT_DAY,SHIFT_DAY+15)]\n",
    "data_df = data_df.assign(**{\n",
    "        '{}_lag_{}'.format(col, l): data_df.groupby(['id'])[col].transform(lambda x: x.shift(l))\n",
    "        for l in LAG_DAYS\n",
    "        for col in [TARGET]\n",
    "    })\n",
    "\n",
    "## Minify lag columns把lag的内存减小\n",
    "for col in list(data_df):\n",
    "    if 'lag' in col:\n",
    "        data_df[col] = data_df[col].astype(np.float16)\n",
    "\n",
    "print('%0.2f min: Lags' % ((time.time() - start_time) / 60))\n",
    "\n",
    "# 第二种：Rollings with 28 day shift \n",
    "start_time = time.time()\n",
    "print('Create rolling aggs')\n",
    "\n",
    "for i in [7,14,30,60,180]:\n",
    "    print('Rolling period:', i)\n",
    "    data_df['rolling_mean_'+str(i)] = data_df.groupby(['id'])[TARGET].transform(lambda x: x.shift(SHIFT_DAY).rolling(i).mean()).astype(np.float16)\n",
    "    # 先滞后28天，再rolling7，表示28前的一周数据，也就是28+7的35天前 到 28天前 的数据\n",
    "    # 如果改成先滞后29天，再rolling7，表示大概一个月前 的前周数据，也就是29+7的36天前 到 29天前 的数据\n",
    "    data_df['rolling_std_'+str(i)]  = data_df.groupby(['id'])[TARGET].transform(lambda x: x.shift(SHIFT_DAY).rolling(i).std()).astype(np.float16)\n",
    "\n",
    "# 第三种：Rollings with sliding shift \n",
    "\n",
    "for d_shift in [1,8,15]:   ###！！！！！！！我觉得这里有问题 应该是1 8 15才对！！！！！！改了！\n",
    "    print('Shifting period:', d_shift)\n",
    "    for d_window in [7,14,30,60]:\n",
    "        col_name = 'rolling_mean_tmp_'+str(d_shift)+'_'+str(d_window)\n",
    "        ## shift1+rolling7，表示一周前七天的数据，命名为rolling_mean_tmp_1_7 \n",
    "        data_df[col_name] = data_df.groupby(['id'])[TARGET].transform(lambda x: x.shift(d_shift).rolling(d_window).mean()).astype(np.float16)\n",
    "    \n",
    "print('%0.2f min: Lags' % ((time.time() - start_time) / 60))"
   ]
  },
  {
   "cell_type": "code",
   "execution_count": 13,
   "metadata": {},
   "outputs": [
    {
     "name": "stdout",
     "output_type": "stream",
     "text": [
      "Save lags and rollings\n"
     ]
    }
   ],
   "source": [
    "########## 导出 ##########\n",
    "print('Save lags and rollings')\n",
    "data_df.to_pickle('./Processing/Features/Lags_FE/lags_df_'+str(SHIFT_DAY)+'.pkl')"
   ]
  },
  {
   "cell_type": "markdown",
   "metadata": {},
   "source": [
    "### 2.3 滞后特征总结"
   ]
  },
  {
   "cell_type": "code",
   "execution_count": 14,
   "metadata": {},
   "outputs": [
    {
     "name": "stdout",
     "output_type": "stream",
     "text": [
      "<class 'pandas.core.frame.DataFrame'>\n",
      "RangeIndex: 46881677 entries, 0 to 46881676\n",
      "Data columns (total 40 columns):\n",
      " #   Column                  Dtype   \n",
      "---  ------                  -----   \n",
      " 0   id                      category\n",
      " 1   d                       int16   \n",
      " 2   sales                   float64 \n",
      " 3   sales_lag_28            float16 \n",
      " 4   sales_lag_29            float16 \n",
      " 5   sales_lag_30            float16 \n",
      " 6   sales_lag_31            float16 \n",
      " 7   sales_lag_32            float16 \n",
      " 8   sales_lag_33            float16 \n",
      " 9   sales_lag_34            float16 \n",
      " 10  sales_lag_35            float16 \n",
      " 11  sales_lag_36            float16 \n",
      " 12  sales_lag_37            float16 \n",
      " 13  sales_lag_38            float16 \n",
      " 14  sales_lag_39            float16 \n",
      " 15  sales_lag_40            float16 \n",
      " 16  sales_lag_41            float16 \n",
      " 17  sales_lag_42            float16 \n",
      " 18  rolling_mean_7          float16 \n",
      " 19  rolling_std_7           float16 \n",
      " 20  rolling_mean_14         float16 \n",
      " 21  rolling_std_14          float16 \n",
      " 22  rolling_mean_30         float16 \n",
      " 23  rolling_std_30          float16 \n",
      " 24  rolling_mean_60         float16 \n",
      " 25  rolling_std_60          float16 \n",
      " 26  rolling_mean_180        float16 \n",
      " 27  rolling_std_180         float16 \n",
      " 28  rolling_mean_tmp_1_7    float16 \n",
      " 29  rolling_mean_tmp_1_14   float16 \n",
      " 30  rolling_mean_tmp_1_30   float16 \n",
      " 31  rolling_mean_tmp_1_60   float16 \n",
      " 32  rolling_mean_tmp_8_7    float16 \n",
      " 33  rolling_mean_tmp_8_14   float16 \n",
      " 34  rolling_mean_tmp_8_30   float16 \n",
      " 35  rolling_mean_tmp_8_60   float16 \n",
      " 36  rolling_mean_tmp_15_7   float16 \n",
      " 37  rolling_mean_tmp_15_14  float16 \n",
      " 38  rolling_mean_tmp_15_30  float16 \n",
      " 39  rolling_mean_tmp_15_60  float16 \n",
      "dtypes: category(1), float16(37), float64(1), int16(1)\n",
      "memory usage: 3.8 GB\n"
     ]
    }
   ],
   "source": [
    "data_df = pd.read_pickle('./Processing/Features/Lags_FE/lags_df_28.pkl')\n",
    "data_df.info()"
   ]
  },
  {
   "cell_type": "markdown",
   "metadata": {
    "toc-hr-collapsed": false
   },
   "source": [
    "## 3. 建立聚合特征"
   ]
  },
  {
   "cell_type": "markdown",
   "metadata": {},
   "source": [
    "### 3.1 数据读取"
   ]
  },
  {
   "cell_type": "code",
   "execution_count": 2,
   "metadata": {
    "_cell_guid": "79c7e3d0-c299-4dcb-8224-4455121ee9b0",
    "_uuid": "d629ff2d2480ee46fbb7e2d37f6b5fab8052498a"
   },
   "outputs": [],
   "source": [
    "########## 导入第一部分的结果 ##########\n",
    "data_df = pd.concat([pd.read_pickle('./Processing/Features/Basic_FE/grid_part_1.pkl'),\n",
    "                     pd.read_pickle('./Processing/Features/Basic_FE/grid_part_2.pkl').iloc[:,2:],\n",
    "                     pd.read_pickle('./Processing/Features/Basic_FE/grid_part_3.pkl').iloc[:,2:]],\n",
    "                        # delete id and d_ in part 2 and part3\n",
    "                     axis=1)\n",
    "    # 这里只加入了基础的，没有加入lags的～需要在这里搜索一下！"
   ]
  },
  {
   "cell_type": "code",
   "execution_count": 3,
   "metadata": {
    "_cell_guid": "79c7e3d0-c299-4dcb-8224-4455121ee9b0",
    "_uuid": "d629ff2d2480ee46fbb7e2d37f6b5fab8052498a"
   },
   "outputs": [
    {
     "name": "stdout",
     "output_type": "stream",
     "text": [
      "<class 'pandas.core.frame.DataFrame'>\n",
      "RangeIndex: 5918109 entries, 0 to 5918108\n",
      "Data columns (total 34 columns):\n",
      " #   Column            Dtype   \n",
      "---  ------            -----   \n",
      " 0   id                category\n",
      " 1   item_id           category\n",
      " 2   dept_id           category\n",
      " 3   cat_id            category\n",
      " 4   store_id          category\n",
      " 5   state_id          category\n",
      " 6   d                 int16   \n",
      " 7   sales             float64 \n",
      " 8   release           int16   \n",
      " 9   sell_price        float16 \n",
      " 10  price_max         float16 \n",
      " 11  price_min         float16 \n",
      " 12  price_std         float16 \n",
      " 13  price_mean        float16 \n",
      " 14  price_norm        float16 \n",
      " 15  price_nunique     float16 \n",
      " 16  item_nunique      int16   \n",
      " 17  price_momentum    float16 \n",
      " 18  price_momentum_m  float16 \n",
      " 19  price_momentum_y  float16 \n",
      " 20  event_name_1      category\n",
      " 21  event_type_1      category\n",
      " 22  event_name_2      category\n",
      " 23  event_type_2      category\n",
      " 24  snap_CA           category\n",
      " 25  snap_TX           category\n",
      " 26  snap_WI           category\n",
      " 27  tm_d              int8    \n",
      " 28  tm_w              int8    \n",
      " 29  tm_m              int8    \n",
      " 30  tm_y              int8    \n",
      " 31  tm_wm             int8    \n",
      " 32  tm_dw             int8    \n",
      " 33  tm_w_end          int8    \n",
      "dtypes: category(13), float16(10), float64(1), int16(3), int8(7)\n",
      "memory usage: 317.6 MB\n"
     ]
    }
   ],
   "source": [
    "########## Subsampling Data ########## \n",
    "# To make all calculations faster, keep only 10% of original ids.\n",
    "keep_id = np.array_split(list(data_df['id'].unique()), 10)[0]\n",
    "    # 分成10份 保留一份\n",
    "data_df = data_df[data_df['id'].isin(keep_id)].reset_index(drop=True)\n",
    "data_df.info()"
   ]
  },
  {
   "cell_type": "code",
   "execution_count": 4,
   "metadata": {},
   "outputs": [],
   "source": [
    "########## Global 定义常量 ########## \n",
    "SEED = 42             # Our random seed for everything\n",
    "random.seed(SEED)     # to make all tests \"deterministic\"\n",
    "np.random.seed(SEED)\n",
    "N_CORES = psutil.cpu_count()     # Available CPU cores\n",
    "TARGET = 'sales'      # Our Target\n",
    "END_TRAIN = 1913      # And we will use last 28 days as validation"
   ]
  },
  {
   "cell_type": "code",
   "execution_count": 5,
   "metadata": {},
   "outputs": [
    {
     "name": "stdout",
     "output_type": "stream",
     "text": [
      "Training until validation scores don't improve for 30 rounds\n",
      "[500]\ttraining's rmse: 2.64503\tvalid_1's rmse: 2.40932\n",
      "Early stopping, best iteration is:\n",
      "[661]\ttraining's rmse: 2.61187\tvalid_1's rmse: 2.40272\n"
     ]
    }
   ],
   "source": [
    "########## Baseline model ########## \n",
    "# 删除之前在part1加入的 测试集部分(天数标记1914之后的)\n",
    "data_df = data_df[data_df['d']<=END_TRAIN].reset_index(drop=True)\n",
    "remove_features = ['id','d',TARGET]\n",
    "import lightgbm as lgb\n",
    "lgb_params = {\n",
    "                    'boosting_type': 'gbdt',         # Standart boosting type\n",
    "                    'objective': 'regression',       # Standart loss for RMSE\n",
    "                    'metric': ['rmse'],              # as we will use rmse as metric \"proxy\"\n",
    "                    'subsample': 0.8,                \n",
    "                    'subsample_freq': 1,\n",
    "                    'learning_rate': 0.05,           # 0.5 is \"fast enough\" for us\n",
    "                    'num_leaves': 2**7-1,            # We will need model only for fast check\n",
    "                    'min_data_in_leaf': 2**8-1,      # So we want it to train faster even with drop in generalization \n",
    "                    'feature_fraction': 0.8,\n",
    "                    'n_estimators': 5000,            # We don't want to limit training (you can change 5000 to any big enough number)\n",
    "                    'early_stopping_rounds': 30,     # We will stop training almost immediately (if it stops improving) \n",
    "                    'seed': SEED,\n",
    "                    'verbose': -1,\n",
    "                } \n",
    "\n",
    "def rmse(y, y_pred):\n",
    "    '''\n",
    "    Return RMSE to assess performance\n",
    "    '''\n",
    "    return np.sqrt(np.mean(np.square(y - y_pred)))\n",
    "\n",
    "def make_fast_test(df,params=lgb_params):\n",
    "    '''\n",
    "    建LGB的同时，返回RMSE\n",
    "    '''\n",
    "    features_columns = [col for col in list(df) if col not in remove_features]\n",
    "    \n",
    "    # 分一个月当测试集\n",
    "    tr_x, tr_y = df[df['d']<=(END_TRAIN-28)][features_columns], df[df['d']<=(END_TRAIN-28)][TARGET]              \n",
    "    vl_x, vl_y = df[df['d']>(END_TRAIN-28)][features_columns], df[df['d']>(END_TRAIN-28)][TARGET]\n",
    "    \n",
    "    train_data = lgb.Dataset(tr_x, label = tr_y)\n",
    "    valid_data = lgb.Dataset(vl_x, label = vl_y)\n",
    "    \n",
    "    estimator = lgb.train(  params,\n",
    "                            train_data,\n",
    "                            valid_sets = [train_data,valid_data],\n",
    "                            verbose_eval = 500)\n",
    "    return estimator\n",
    "\n",
    "# Make baseline model\n",
    "baseline_model = make_fast_test(data_df)"
   ]
  },
  {
   "cell_type": "markdown",
   "metadata": {},
   "source": [
    "### 3.3 特征构建执行"
   ]
  },
  {
   "cell_type": "code",
   "execution_count": 16,
   "metadata": {},
   "outputs": [
    {
     "name": "stdout",
     "output_type": "stream",
     "text": [
      "Encoding ['state_id']\n",
      "Encoding ['store_id']\n",
      "Encoding ['cat_id']\n",
      "Encoding ['dept_id']\n",
      "Encoding ['state_id', 'cat_id']\n",
      "Encoding ['state_id', 'dept_id']\n",
      "Encoding ['store_id', 'cat_id']\n",
      "Encoding ['store_id', 'dept_id']\n",
      "Encoding ['item_id']\n",
      "Encoding ['item_id', 'state_id']\n",
      "Encoding ['item_id', 'store_id']\n"
     ]
    }
   ],
   "source": [
    "########## Apply on data_df ##########\n",
    "data_df = pd.read_pickle('./Processing/Features/Basic_FE/grid_part_1.pkl')\n",
    "data_df[TARGET][data_df['d']>(1913-28)] = np.nan\n",
    "base_cols = list(data_df)\n",
    "\n",
    "icols =  [\n",
    "            ['state_id'],\n",
    "            ['store_id'],\n",
    "            ['cat_id'],\n",
    "            ['dept_id'],\n",
    "            ['state_id', 'cat_id'],\n",
    "            ['state_id', 'dept_id'],\n",
    "            ['store_id', 'cat_id'],\n",
    "            ['store_id', 'dept_id'],\n",
    "            ['item_id'],\n",
    "            ['item_id', 'state_id'],\n",
    "            ['item_id', 'store_id']\n",
    "            ]\n",
    "\n",
    "for col in icols:\n",
    "    print('Encoding', col)\n",
    "    col_name = '_'+'_'.join(col)+'_'\n",
    "    data_df['enc'+col_name+'mean'] = data_df.groupby(col)[TARGET].transform('mean').astype(np.float16)\n",
    "    data_df['enc'+col_name+'std'] = data_df.groupby(col)[TARGET].transform('std').astype(np.float16)\n",
    "\n",
    "keep_cols = [col for col in list(data_df) if col not in base_cols]\n",
    "data_df = data_df[['id','d']+keep_cols]"
   ]
  },
  {
   "cell_type": "code",
   "execution_count": 17,
   "metadata": {},
   "outputs": [
    {
     "name": "stdout",
     "output_type": "stream",
     "text": [
      "Save Mean/Std encoding\n"
     ]
    }
   ],
   "source": [
    "print('Save Mean/Std encoding')\n",
    "data_df.to_pickle('./Processing/Features/Combined_FE/mean_encoding_df.pkl')"
   ]
  },
  {
   "cell_type": "code",
   "execution_count": 18,
   "metadata": {},
   "outputs": [
    {
     "name": "stdout",
     "output_type": "stream",
     "text": [
      "<class 'pandas.core.frame.DataFrame'>\n",
      "RangeIndex: 46881677 entries, 0 to 46881676\n",
      "Data columns (total 24 columns):\n",
      " #   Column                     Dtype   \n",
      "---  ------                     -----   \n",
      " 0   id                         category\n",
      " 1   d                          int16   \n",
      " 2   enc_state_id_mean          float16 \n",
      " 3   enc_state_id_std           float16 \n",
      " 4   enc_store_id_mean          float16 \n",
      " 5   enc_store_id_std           float16 \n",
      " 6   enc_cat_id_mean            float16 \n",
      " 7   enc_cat_id_std             float16 \n",
      " 8   enc_dept_id_mean           float16 \n",
      " 9   enc_dept_id_std            float16 \n",
      " 10  enc_state_id_cat_id_mean   float16 \n",
      " 11  enc_state_id_cat_id_std    float16 \n",
      " 12  enc_state_id_dept_id_mean  float16 \n",
      " 13  enc_state_id_dept_id_std   float16 \n",
      " 14  enc_store_id_cat_id_mean   float16 \n",
      " 15  enc_store_id_cat_id_std    float16 \n",
      " 16  enc_store_id_dept_id_mean  float16 \n",
      " 17  enc_store_id_dept_id_std   float16 \n",
      " 18  enc_item_id_mean           float16 \n",
      " 19  enc_item_id_std            float16 \n",
      " 20  enc_item_id_state_id_mean  float16 \n",
      " 21  enc_item_id_state_id_std   float16 \n",
      " 22  enc_item_id_store_id_mean  float16 \n",
      " 23  enc_item_id_store_id_std   float16 \n",
      "dtypes: category(1), float16(22), int16(1)\n",
      "memory usage: 2.1 GB\n"
     ]
    }
   ],
   "source": [
    "########## Summary ##########\n",
    "data_df.info()"
   ]
  },
  {
   "cell_type": "markdown",
   "metadata": {
    "toc-hr-collapsed": false
   },
   "source": [
    "## 4. 特征筛选"
   ]
  },
  {
   "cell_type": "markdown",
   "metadata": {},
   "source": [
    "> 这里主要使用了permutation importance test和LOFO test来进行变量选择, 后面尝试了一下PCA但是效果一般\n",
    "> - **4.1 permutation importance test:** 把一个特征里的数值全部随机打乱，如果模型效果下降很多说明该特征比较重要，如果模型效果没有下降或者反而提升，说明这个特征不重要或者本来就是noise！\n",
    "> - **4.2 LOFO test:** LOFO (Leave One Feature Out) Importance calculates the importances of a set of features based on a metric of choice, for a model of choice, by iteratively removing each feature from the set, and evaluating the performance of the model, with a validation scheme of choice, based on the chosen metric.\n",
    ">  - https://pypi.org/project/lofo-importance/"
   ]
  },
  {
   "cell_type": "markdown",
   "metadata": {
    "toc-hr-collapsed": true,
    "toc-nb-collapsed": true
   },
   "source": [
    "### 4.1 Permutation importance test"
   ]
  },
  {
   "cell_type": "markdown",
   "metadata": {
    "toc-hr-collapsed": true
   },
   "source": [
    "#### 4.1.1 滞后阶特征验证"
   ]
  },
  {
   "cell_type": "markdown",
   "metadata": {},
   "source": [
    "##### Lags (7 days):"
   ]
  },
  {
   "cell_type": "code",
   "execution_count": 6,
   "metadata": {},
   "outputs": [
    {
     "name": "stdout",
     "output_type": "stream",
     "text": [
      "Training until validation scores don't improve for 30 rounds\n",
      "Early stopping, best iteration is:\n",
      "[431]\ttraining's rmse: 2.42907\tvalid_1's rmse: 2.24745\n"
     ]
    }
   ],
   "source": [
    "from multiprocessing import Pool \n",
    "\n",
    "def df_parallelize_run(func, t_split):\n",
    "    '''\n",
    "    一个类似于一个用多线程写出的apply方法，第一个是处理单个lag的方程，第二个是lags的列表\n",
    "    注意：This function is NOT 'bulletproof', be carefull and pass only correct types of variables.\n",
    "    :t_split - int of lags days                   # type: int\n",
    "    :func - Function to apply on each split       # type: python function\n",
    "    '''\n",
    "    num_cores = np.min([N_CORES,len(t_split)])\n",
    "    pool = Pool(num_cores)\n",
    "    df = pd.concat(pool.map(func, t_split), axis=1)\n",
    "    pool.close()\n",
    "    pool.join()\n",
    "    return df\n",
    "\n",
    "def make_lag(lag_day):\n",
    "    lag_df = data_df[['id','d',TARGET]] \n",
    "        # 这里的data_df是全局操作的时候，不断改变的量，会从环境中获取当前的\n",
    "    col_name = 'sales_lag_'+str(lag_day)\n",
    "    lag_df[col_name] = lag_df.groupby(['id'])[TARGET].transform(lambda x: x.shift(lag_day)).astype(np.float16)\n",
    "        # 将每个id的销售shift一个lag—_day，然后保存为column\n",
    "    return lag_df[[col_name]]\n",
    "\n",
    "LAGS_SPLIT = [col for col in range(1,1+7)]\n",
    "data_df = pd.concat([data_df, df_parallelize_run(make_lag,LAGS_SPLIT)], axis=1)\n",
    "test_model = make_fast_test(data_df)"
   ]
  },
  {
   "cell_type": "markdown",
   "metadata": {},
   "source": [
    "##### 运行 Permutation importance Test："
   ]
  },
  {
   "cell_type": "code",
   "execution_count": 7,
   "metadata": {},
   "outputs": [
    {
     "name": "stdout",
     "output_type": "stream",
     "text": [
      "Base RMSE: 2.2474524076045217\n",
      "Adding release : 0.0\n",
      "Adding sell_price : 0.0048\n",
      "Adding price_max : 0.0007\n",
      "Adding price_min : 0.0001\n",
      "Adding price_std : 0.0002\n",
      "Adding price_mean : 0.0004\n",
      "Adding price_norm : 0.0007\n",
      "Adding price_nunique : 0.0005\n",
      "Adding item_nunique : 0.0011\n",
      "Adding price_momentum : 0.0001\n",
      "Adding price_momentum_m : 0.0035\n",
      "Adding price_momentum_y : 0.0003\n",
      "Adding tm_d : -0.0003\n",
      "Adding tm_w : 0.0001\n",
      "Adding tm_m : 0.0001\n",
      "Adding tm_y : 0.0\n",
      "Adding tm_wm : 0.0002\n",
      "Adding tm_dw : 0.1191\n",
      "Adding tm_w_end : 0.0038\n",
      "Adding sales_lag_1 : 0.348\n",
      "Adding sales_lag_2 : 0.0284\n",
      "Adding sales_lag_3 : 0.0103\n",
      "Adding sales_lag_4 : 0.0129\n",
      "Adding sales_lag_5 : 0.0121\n",
      "Adding sales_lag_6 : 0.0182\n",
      "Adding sales_lag_7 : 0.0353\n"
     ]
    }
   ],
   "source": [
    "# Creat validation dataset and features\n",
    "validation_df = data_df[data_df['d']>(END_TRAIN-28)].reset_index(drop=True)\n",
    "\n",
    "# Make normal prediction with our model and save score\n",
    "features_columns = [col for col in list(data_df) if col not in remove_features]\n",
    "validation_df['preds'] = test_model.predict(validation_df[features_columns])\n",
    "base_score = rmse(validation_df[TARGET], validation_df['preds'])\n",
    "print('Base RMSE:', base_score)\n",
    "\n",
    "# Looping over all numerical features\n",
    "for col in features_columns:\n",
    "    # Make validation set copy to restore features on each run\n",
    "    temp_df = validation_df.copy() \n",
    "    \n",
    "    if temp_df[col].dtypes.name != 'category': # Check if feature is numerical\n",
    "        # Step1: 把原来validation_df中的col特征打乱\n",
    "        temp_df[col] = np.random.permutation(temp_df[col].values)\n",
    "        \n",
    "        # Step2: 做出预测\n",
    "        temp_df['preds'] = test_model.predict(temp_df[features_columns])\n",
    "        \n",
    "        # Step3: 计算新预测的得分\n",
    "        cur_score = rmse(temp_df[TARGET], temp_df['preds'])\n",
    "        \n",
    "        # Step4: 如果打乱之后，RMSE应该会变高！如果rmse反而变低了，说明这个Feature本来就不怎么样\n",
    "        print(\"Adding\",col,\":\", np.round(cur_score - base_score, 4))\n",
    "del temp_df, validation_df"
   ]
  },
  {
   "cell_type": "markdown",
   "metadata": {},
   "source": [
    "##### Lags far away:"
   ]
  },
  {
   "cell_type": "code",
   "execution_count": 9,
   "metadata": {},
   "outputs": [
    {
     "name": "stdout",
     "output_type": "stream",
     "text": [
      "Training until validation scores don't improve for 30 rounds\n",
      "Early stopping, best iteration is:\n",
      "[447]\ttraining's rmse: 2.64849\tvalid_1's rmse: 2.40496\n",
      "Base RMSE: 2.404958886351663\n",
      "release 0.0\n",
      "sell_price 0.0039\n",
      "price_max 0.0037\n",
      "price_min 0.0016\n",
      "price_std 0.0043\n",
      "price_mean 0.005\n",
      "price_norm 0.0019\n",
      "price_nunique 0.0057\n",
      "item_nunique 0.0073\n",
      "price_momentum 0.004\n",
      "price_momentum_m 0.0311\n",
      "price_momentum_y 0.0037\n",
      "tm_d 0.0027\n",
      "tm_w 0.0024\n",
      "tm_m 0.0016\n",
      "tm_y 0.0\n",
      "tm_wm -0.0001\n",
      "tm_dw 0.1241\n",
      "tm_w_end 0.0056\n",
      "sales_lag_56 0.0225\n",
      "sales_lag_57 0.0162\n",
      "sales_lag_58 0.0064\n",
      "sales_lag_59 0.0047\n",
      "sales_lag_60 0.0047\n",
      "sales_lag_61 0.0051\n",
      "sales_lag_62 0.0142\n"
     ]
    }
   ],
   "source": [
    "# 移除刚刚加入的一周的lags\n",
    "keep_cols = [col for col in list(data_df) if 'sales_lag_' not in col]\n",
    "data_df = data_df[keep_cols]\n",
    "\n",
    "# 选择8周前（大概两个月前）的一周数据+目前的最近1周数据建模\n",
    "LAGS_SPLIT = [col for col in range(56,56+7)]\n",
    "data_df = pd.concat([data_df, df_parallelize_run(make_lag,LAGS_SPLIT)], axis=1)\n",
    "test_model = make_fast_test(data_df)\n",
    "\n",
    "# 计算基础的RMSE\n",
    "features_columns = [col for col in list(data_df) if col not in remove_features]\n",
    "validation_df = data_df[data_df['d']>(END_TRAIN-28)].reset_index(drop=True)\n",
    "validation_df['preds'] = test_model.predict(validation_df[features_columns])\n",
    "base_score = rmse(validation_df[TARGET], validation_df['preds'])\n",
    "print('Base RMSE:', base_score)\n",
    "\n",
    "# 计算far lags和其他变量的RMSE\n",
    "for col in features_columns:\n",
    "    temp_df = validation_df.copy()\n",
    "    if temp_df[col].dtypes.name != 'category':\n",
    "        temp_df[col] = np.random.permutation(temp_df[col].values)\n",
    "        temp_df['preds'] = test_model.predict(temp_df[features_columns])\n",
    "        cur_score = rmse(temp_df[TARGET], temp_df['preds'])\n",
    "        print(col, np.round(cur_score - base_score, 4))\n",
    "\n",
    "del temp_df, validation_df\n",
    "        \n",
    "# Remove current test features\n",
    "keep_cols = [col for col in list(data_df) if 'sales_lag_' not in col]\n",
    "data_df = data_df[keep_cols]\n",
    "\n",
    "# Results:\n",
    "## Lags with 56 days shift (far away past) are not as important\n",
    "## as nearest past lags\n",
    "## and at some point will be just noise for our model\n",
    "\n",
    "## 因此 这就是为什么 之前的不用56天+的～"
   ]
  },
  {
   "cell_type": "markdown",
   "metadata": {
    "toc-hr-collapsed": true
   },
   "source": [
    "#### 4.1.2 Mean encodings Mean/std"
   ]
  },
  {
   "cell_type": "code",
   "execution_count": 14,
   "metadata": {},
   "outputs": [
    {
     "name": "stdout",
     "output_type": "stream",
     "text": [
      "Encoding item_id\n",
      "Encoding cat_id\n",
      "Encoding dept_id\n",
      "Training until validation scores don't improve for 30 rounds\n",
      "[500]\ttraining's rmse: 2.61617\tvalid_1's rmse: 2.39825\n",
      "Early stopping, best iteration is:\n",
      "[805]\ttraining's rmse: 2.56027\tvalid_1's rmse: 2.3828\n"
     ]
    }
   ],
   "source": [
    "########## Mean/std target encoding ##########\n",
    "\n",
    "# We will use these three columns for test in combination with store_id\n",
    "icols = ['item_id','cat_id','dept_id']\n",
    "\n",
    "for col in icols:\n",
    "    print('Encoding', col)\n",
    "    temp_df = data_df[data_df['d']<=(1913-28)] # to be sure we don't have leakage in our validation set\n",
    "    \n",
    "    temp_df = temp_df.groupby([col,'store_id']).agg({TARGET: ['std','mean']})\n",
    "        # 不同分层信息与商店进行组合，然后计算均值和标准差\n",
    "        \n",
    "    # Name the columns\n",
    "    joiner = '_'+col+'_encoding_'\n",
    "    temp_df.columns = [joiner.join(col).strip() for col in temp_df.columns.values]\n",
    "    temp_df = temp_df.reset_index()\n",
    "    \n",
    "    data_df = data_df.merge(temp_df, on=[col,'store_id'], how='left')\n",
    "    del temp_df\n",
    "\n",
    "# Make features test\n",
    "test_model = make_fast_test(data_df)\n",
    "\n",
    "# Remove test features\n",
    "keep_cols = [col for col in list(data_df) if '_encoding_' not in col]\n",
    "data_df = data_df[keep_cols]"
   ]
  },
  {
   "cell_type": "markdown",
   "metadata": {},
   "source": [
    "##### 4.1.3 结果"
   ]
  },
  {
   "cell_type": "markdown",
   "metadata": {},
   "source": [
    "![title](\n",
    "https://cdn.nlark.com/yuque/0/2020/png/1301375/1589447430825-13049e8c-6567-4893-a81b-ed13993e17a3.png?x-oss-process=image%2Fresize%2Cw_944)\n",
    "\n",
    "- 汇总以上的结果，可以看到tm_dw（一周的第几天）是最重要的，因为shuffle它的值之后RMSE下降最多，而price_momentum_y（年度涨价幅度）等特征没有什么用，应该在后续删除掉"
   ]
  },
  {
   "cell_type": "markdown",
   "metadata": {
    "toc-hr-collapsed": true,
    "toc-nb-collapsed": true
   },
   "source": [
    "### 4.2 LOFO test"
   ]
  },
  {
   "cell_type": "markdown",
   "metadata": {
    "colab_type": "text",
    "id": "hG8qOvkdmgr1"
   },
   "source": [
    "#### 4.2.1 进行LOFO检测"
   ]
  },
  {
   "cell_type": "code",
   "execution_count": 35,
   "metadata": {},
   "outputs": [],
   "source": [
    "# !pip3 install lofo\n",
    "from lofo import LOFOImportance, Dataset, plot_importance\n",
    "from sklearn.model_selection import KFold"
   ]
  },
  {
   "cell_type": "code",
   "execution_count": 36,
   "metadata": {
    "colab": {},
    "colab_type": "code",
    "id": "pQW9xypPdHN4"
   },
   "outputs": [],
   "source": [
    "def transform(data):\n",
    "    nan_features = ['event_name_1', 'event_type_1', 'event_name_2', 'event_type_2']\n",
    "    for feature in nan_features:\n",
    "        data[feature].fillna('unknown', inplace = True)\n",
    "    \n",
    "    data['id_encode'], _ = data[\"id\"].factorize()\n",
    "    \n",
    "    cat = ['item_id', 'dept_id', 'cat_id',  'event_name_1', 'event_type_1', 'event_name_2', 'event_type_2']\n",
    "    for feature in cat:\n",
    "        data[feature], _ = data[feature].factorize()\n",
    "    \n",
    "    return data"
   ]
  },
  {
   "cell_type": "code",
   "execution_count": null,
   "metadata": {
    "colab": {
     "base_uri": "https://localhost:8080/",
     "height": 627,
     "referenced_widgets": [
      "03f88052055f4536b658aab258c6ff32",
      "a3cb64ee81464a87b4f3effc1223bc91",
      "292dbaa8ab4348a2852c55567f909b5b",
      "e1a6a94b78fa4e149a2dd098a86c1567",
      "0579bedaf8ef46fc8479c99bda2dc211",
      "76b809782dcd4bb3bd6730ad3bf7c93d",
      "64b91e5be1ca4a21bb36dfa717b0240e",
      "2f1e0fb24e2340eb8adddae004fe7c66",
      "012cb72da6a54bc38f64bd27f7199cde",
      "5ed1fa5f8bdc4238baa408c1b82f5120",
      "a7dac78513b54a9a90bb85fc90fc95a2",
      "5ecb56c7118a4d30bf6182465a690396",
      "eb5cc2eb53344aad80ddf6d0285545d5",
      "626503713e274d7aa03b4c925b3d5dd3",
      "de00e10283fb4fbdaccea855ea74d6c4",
      "ff4218d6178c46d28218ebe2605ad104",
      "d953b2107dfb484cae8eb4630fc4553b",
      "3fbfb65a94d547a3bfdc2bb8c6b789b2",
      "71d23e6a3f3c43578650c8d5df002657",
      "154774e326e7403cb20757f81481faa4",
      "b456f59cb7874705846160f82f17d6d8",
      "dfea8cf84184419ebc8eb8e13bd498e5",
      "47825a8eab8446a78296dea7b5569cf6",
      "4f6b38efd7424ed0a2cb3afe95cce7ab",
      "a37ca8297d8b452488caae6cb23668cf",
      "f19dafe23ef841119ac017e7bc340610",
      "9507e127cf0446368dadda8d188536a9",
      "58b30f9a5b9245d3adc491d2c22d27af",
      "4401a4eb913e4a168fbfcdc888a7a1fb",
      "11f2ff25dfdb4dc993ad8e1a2320b2f1",
      "aed80ff3a1d9461ea3a0608405c7befc",
      "f59d8e85b19d42c3b548103ed8c0367f",
      "74e81a3f662040b581c8cbfb8277f8fe",
      "cba8f13853cc43b387d94d916d7e6e40",
      "e380953045e944ed9169cded91ece7e5",
      "359962418ba34a7d992ab5b4959c113d",
      "3a142590005048bea5ec68aeefd76bb8",
      "fd53d4570c46459dbba80a3e9a64fe8c",
      "7897e444a6d2405aaa686316df2e4ee8",
      "7321e1cbbf344de0a18986b677aec68c",
      "64919cdc26434e5980fe02fa4f599c5b",
      "a8ff1d46ff1943c7b3f58962eb7c15d0",
      "ca1dcb7554bf4808b636ac6bdf7c35f0",
      "b36578b443d04fd18baea20d89fea2ba",
      "f5e01997b14349ca95e13267ca1e9757",
      "f07acc551d8a4b878099afce71248725",
      "099c11607df1469c8c3aaf4e3d25a54b",
      "ea258fb4087244478d5c368c92984e88",
      "0b92bfb860cf4d52b56faaf84a5c8546",
      "004b062e473a4652b7044c20346d8cb8",
      "76cf10bda7cc4d4aaf58bf15e1ea65c0",
      "382de19840ac42d18e845f2266b45616",
      "b0b91496a7ce418ea98c597d1f24d9a1",
      "965b0ce8a0dc427eb2b13622cb3777ac",
      "16a841f29a6c4859a67b52305adca7a8",
      "3c2b3b57315f48d685077f1f85cba150",
      "e5b6b99d18dc4534b79456455647c87f",
      "aaa9e54cc59d406bb7219701f6319e63",
      "0cbfd3834e33474f9eac4349708a0fa9",
      "61d282af2d6b4054b939f25b7d1ec1b1",
      "2333c9e64a6a4bfea4329e10214983c4",
      "8b0c238f956a44f6b160c3a98e953ac1",
      "f4ce3630c8234c8d93daf96e24c8e7db",
      "6c0c435b099740caabfdf40d89ca6582",
      "8c560353cfb64f07b745cfbc9fd59006",
      "39a0397db9a94e57b8860cbd6d84a702",
      "cfa43ad5e8af49ae83fcc72286b20c22",
      "19c3c612fd5940df93bad9e4cfe9afc7",
      "1eb0bcf6c94c4feb9964351ab92b6cb0",
      "85e0ec9be2ff4e79b0fbceed1b2f1083",
      "0402005b4aa94265a5f2ec6ea8888e8b",
      "8fc92bfed3a44e9485f24c732ff83a8b"
     ]
    },
    "colab_type": "code",
    "id": "mwPnQdXzoVJV",
    "outputId": "346425b4-bdf9-49b0-dbca-723eec23f651"
   },
   "outputs": [
    {
     "name": "stdout",
     "output_type": "stream",
     "text": [
      "select features for:  CA_1\n"
     ]
    },
    {
     "data": {
      "application/vnd.jupyter.widget-view+json": {
       "model_id": "03f88052055f4536b658aab258c6ff32",
       "version_major": 2,
       "version_minor": 0
      },
      "text/plain": [
       "HBox(children=(FloatProgress(value=0.0, max=77.0), HTML(value='')))"
      ]
     },
     "metadata": {
      "tags": []
     },
     "output_type": "display_data"
    },
    {
     "name": "stdout",
     "output_type": "stream",
     "text": [
      "\n",
      "select features for:  CA_2\n"
     ]
    },
    {
     "data": {
      "application/vnd.jupyter.widget-view+json": {
       "model_id": "012cb72da6a54bc38f64bd27f7199cde",
       "version_major": 2,
       "version_minor": 0
      },
      "text/plain": [
       "HBox(children=(FloatProgress(value=0.0, max=77.0), HTML(value='')))"
      ]
     },
     "metadata": {
      "tags": []
     },
     "output_type": "display_data"
    },
    {
     "name": "stdout",
     "output_type": "stream",
     "text": [
      "\n",
      "select features for:  CA_3\n"
     ]
    },
    {
     "data": {
      "application/vnd.jupyter.widget-view+json": {
       "model_id": "d953b2107dfb484cae8eb4630fc4553b",
       "version_major": 2,
       "version_minor": 0
      },
      "text/plain": [
       "HBox(children=(FloatProgress(value=0.0, max=77.0), HTML(value='')))"
      ]
     },
     "metadata": {
      "tags": []
     },
     "output_type": "display_data"
    },
    {
     "name": "stdout",
     "output_type": "stream",
     "text": [
      "\n",
      "select features for:  TX_1\n"
     ]
    },
    {
     "data": {
      "application/vnd.jupyter.widget-view+json": {
       "model_id": "a37ca8297d8b452488caae6cb23668cf",
       "version_major": 2,
       "version_minor": 0
      },
      "text/plain": [
       "HBox(children=(FloatProgress(value=0.0, max=77.0), HTML(value='')))"
      ]
     },
     "metadata": {
      "tags": []
     },
     "output_type": "display_data"
    },
    {
     "name": "stdout",
     "output_type": "stream",
     "text": [
      "\n",
      "select features for:  TX_2\n"
     ]
    },
    {
     "data": {
      "application/vnd.jupyter.widget-view+json": {
       "model_id": "74e81a3f662040b581c8cbfb8277f8fe",
       "version_major": 2,
       "version_minor": 0
      },
      "text/plain": [
       "HBox(children=(FloatProgress(value=0.0, max=77.0), HTML(value='')))"
      ]
     },
     "metadata": {
      "tags": []
     },
     "output_type": "display_data"
    },
    {
     "name": "stdout",
     "output_type": "stream",
     "text": [
      "\n",
      "select features for:  TX_3\n"
     ]
    },
    {
     "data": {
      "application/vnd.jupyter.widget-view+json": {
       "model_id": "64919cdc26434e5980fe02fa4f599c5b",
       "version_major": 2,
       "version_minor": 0
      },
      "text/plain": [
       "HBox(children=(FloatProgress(value=0.0, max=77.0), HTML(value='')))"
      ]
     },
     "metadata": {
      "tags": []
     },
     "output_type": "display_data"
    },
    {
     "name": "stdout",
     "output_type": "stream",
     "text": [
      "\n",
      "select features for:  WI_1\n"
     ]
    },
    {
     "data": {
      "application/vnd.jupyter.widget-view+json": {
       "model_id": "0b92bfb860cf4d52b56faaf84a5c8546",
       "version_major": 2,
       "version_minor": 0
      },
      "text/plain": [
       "HBox(children=(FloatProgress(value=0.0, max=77.0), HTML(value='')))"
      ]
     },
     "metadata": {
      "tags": []
     },
     "output_type": "display_data"
    },
    {
     "name": "stdout",
     "output_type": "stream",
     "text": [
      "\n",
      "select features for:  WI_2\n"
     ]
    },
    {
     "data": {
      "application/vnd.jupyter.widget-view+json": {
       "model_id": "e5b6b99d18dc4534b79456455647c87f",
       "version_major": 2,
       "version_minor": 0
      },
      "text/plain": [
       "HBox(children=(FloatProgress(value=0.0, max=77.0), HTML(value='')))"
      ]
     },
     "metadata": {
      "tags": []
     },
     "output_type": "display_data"
    },
    {
     "name": "stdout",
     "output_type": "stream",
     "text": [
      "\n",
      "select features for:  WI_3\n"
     ]
    },
    {
     "data": {
      "application/vnd.jupyter.widget-view+json": {
       "model_id": "8c560353cfb64f07b745cfbc9fd59006",
       "version_major": 2,
       "version_minor": 0
      },
      "text/plain": [
       "HBox(children=(FloatProgress(value=0.0, max=77.0), HTML(value='')))"
      ]
     },
     "metadata": {
      "tags": []
     },
     "output_type": "display_data"
    },
    {
     "name": "stdout",
     "output_type": "stream",
     "text": [
      "\n"
     ]
    }
   ],
   "source": [
    "# LOFO检测\n",
    "for store_id in STORES_IDS:\n",
    "\n",
    "  print('select features for: ', store_id)\n",
    "  # 得到每个商店的数据并整理\n",
    "  grid_df, features_columns = get_data_by_store(store_id)\n",
    "  sample_df = grid_df.sample(frac=0.01, random_state=random_state)\n",
    "  sample_df.sort_values(\"d\", inplace=True)  \n",
    "\n",
    "  # 转换成category\n",
    "  sample_df[CAT_FEA] = sample_df[CAT_FEA].astype('object')\n",
    "  sample_df = transform(sample_df)\n",
    "  sample_df[CAT_FEA] = sample_df[CAT_FEA].astype('category')\n",
    "  features_columns.append('id_encode')\n",
    "  sample_df.dropna(inplace=True)\n",
    "  dataset = Dataset(df=sample_df, target=\"sales\", features=features_columns)\n",
    "  cv = KFold(n_splits=5, shuffle=False, random_state=0)\n",
    "\n",
    "  # LOFO检测\n",
    "  lofo_imp = LOFOImportance(dataset, cv=cv, scoring=\"neg_mean_squared_error\")\n",
    "\n",
    "  # 输出结果\n",
    "  importance_df = lofo_imp.get_importance()\n",
    "  pd.to_pickle(importance_df,'data/importancedf_'+str(random_state)+'_'+store_id+'.pkl')"
   ]
  },
  {
   "cell_type": "markdown",
   "metadata": {},
   "source": [
    "#### 4.2.2 结果汇总"
   ]
  },
  {
   "cell_type": "code",
   "execution_count": 46,
   "metadata": {
    "colab": {},
    "colab_type": "code",
    "id": "7Z6ygGJyF469"
   },
   "outputs": [
    {
     "data": {
      "image/png": "[encoded data removed]",
      "text/plain": [
       "<Figure size 864x1440 with 1 Axes>"
      ]
     },
     "metadata": {
      "needs_background": "light"
     },
     "output_type": "display_data"
    }
   ],
   "source": [
    "# CA_3在随机数种子0下：\n",
    "import pickle\n",
    "import matplotlib.pyplot as plt\n",
    "importance_df = pd.read_pickle(\"./Processing/Features_tested/importancedf_0_CA_3.pkl\")\n",
    "plot_importance(importance_df, figsize=(12, 20))"
   ]
  },
  {
   "cell_type": "markdown",
   "metadata": {},
   "source": [
    "- 可以看到，在California洲三号商店，几乎所有的变量删除之后效果都下降了，说明对模型是正向作用，只有10个变量删除之后效果不变"
   ]
  },
  {
   "cell_type": "code",
   "execution_count": 45,
   "metadata": {},
   "outputs": [
    {
     "data": {
      "image/png": "[encoded data removed]",
      "text/plain": [
       "<Figure size 864x1440 with 1 Axes>"
      ]
     },
     "metadata": {
      "needs_background": "light"
     },
     "output_type": "display_data"
    }
   ],
   "source": [
    "importance_df = pd.read_pickle(\"./Processing/Features_tested/importancedf_0_CA_1.pkl\")\n",
    "plot_importance(importance_df, figsize=(12, 20))"
   ]
  },
  {
   "cell_type": "markdown",
   "metadata": {},
   "source": [
    "- 然而，在California洲一号商店，大部分的变量是有害的，不到一半有效，因此预示着我们应该对每一个商店选择不同的特征进行建模！"
   ]
  },
  {
   "cell_type": "markdown",
   "metadata": {},
   "source": [
    "### 4.3 PCA降唯 "
   ]
  },
  {
   "cell_type": "code",
   "execution_count": 10,
   "metadata": {},
   "outputs": [],
   "source": [
    "# 尝试将lag1——7组合成pca，看看能不能得到几乎相同的rmse\n",
    "from sklearn.decomposition import PCA\n",
    "def make_pca(df, pca_col, n_days):\n",
    "    '''\n",
    "    Try PCA and make 7->3 dimensionality reduction\n",
    "    :df - 整体数据\n",
    "    :pca_col - 设置成id, 表示需要到多基本的数据框\n",
    "    :n_days - if = 7, 表示会生成滞后7天的lags 并从中选择3个主成分\n",
    "    '''\n",
    "    print('PCA on:', pca_col, n_days)\n",
    "    pca_df = df[[pca_col,'d',TARGET]]\n",
    "        # 需要pca的col, d用于定位, 目标变量 就可以了\n",
    "        \n",
    "    # If we are doing pca for other series \"levels\", we need to agg first\n",
    "    if pca_col != 'id':\n",
    "        merge_base = pca_df[[pca_col,'d']] #去掉target的基本base\n",
    "        pca_df = pca_df.groupby([pca_col,'d'])[TARGET].agg(['sum']).reset_index()\n",
    "        pca_df[TARGET] = pca_df['sum']\n",
    "        del pca_df['sum']\n",
    "    \n",
    "    # Min/Max scaling\n",
    "    pca_df[TARGET] = pca_df[TARGET]/pca_df[TARGET].max()\n",
    "    \n",
    "    # Making \"lag\"\n",
    "    LAG_DAYS = [col for col in range(1,n_days+1)]\n",
    "    format_str = '{}_pca_'+pca_col+str(n_days)+'_{}'\n",
    "    pca_df = pca_df.assign(**{\n",
    "            format_str.format(target, lag): pca_df.groupby([pca_col])[target].transform(lambda x: x.shift(lag))\n",
    "            for lag in LAG_DAYS\n",
    "            for target in [TARGET]\n",
    "        })\n",
    "    \n",
    "    # 对需要进行pca的列清洗数据\n",
    "    pca_columns = list(pca_df)[3:] # pca_df前三列是id d 和target\n",
    "    pca_df[pca_columns] = pca_df[pca_columns].fillna(0)\n",
    "    \n",
    "    # Fit PCA\n",
    "    pca = PCA(random_state=SEED)    \n",
    "    pca.fit(pca_df[pca_columns])\n",
    "    pca_df[pca_columns] = pca.transform(pca_df[pca_columns])\n",
    "    print(pca.explained_variance_ratio_)\n",
    "    \n",
    "    # Keep only 3 most \"valuable\" columns/dimensions \n",
    "    keep_cols = pca_columns[:3]\n",
    "    print('Columns to keep:', keep_cols)\n",
    "    \n",
    "    # 备注：如果pca的对象不是id的话，要先把结果加起来，然后merge到merge_base\n",
    "    return pca_df[keep_cols]"
   ]
  },
  {
   "cell_type": "code",
   "execution_count": 11,
   "metadata": {},
   "outputs": [
    {
     "name": "stdout",
     "output_type": "stream",
     "text": [
      "PCA on: id 7\n",
      "[0.70477166 0.06805795 0.06137376 0.04555803 0.04232764 0.0394055\n",
      " 0.03850546]\n",
      "Columns to keep: ['sales_pca_id7_1', 'sales_pca_id7_2', 'sales_pca_id7_3']\n"
     ]
    }
   ],
   "source": [
    "data_df = pd.concat([data_df, make_pca(data_df,'id',7)], axis=1)"
   ]
  },
  {
   "cell_type": "code",
   "execution_count": 12,
   "metadata": {},
   "outputs": [
    {
     "name": "stdout",
     "output_type": "stream",
     "text": [
      "Training until validation scores don't improve for 30 rounds\n",
      "[500]\ttraining's rmse: 2.46387\tvalid_1's rmse: 2.26436\n",
      "Early stopping, best iteration is:\n",
      "[668]\ttraining's rmse: 2.43415\tvalid_1's rmse: 2.26073\n"
     ]
    }
   ],
   "source": [
    "# 结果：\n",
    "test_model = make_fast_test(data_df)"
   ]
  },
  {
   "cell_type": "markdown",
   "metadata": {},
   "source": [
    "# 第二部分 模型训练"
   ]
  },
  {
   "cell_type": "markdown",
   "metadata": {},
   "source": [
    "#### 1. 辅助函数"
   ]
  },
  {
   "cell_type": "code",
   "execution_count": 2,
   "metadata": {},
   "outputs": [],
   "source": [
    "def seed_everything(seed=0):\n",
    "    random.seed(seed)\n",
    "    np.random.seed(seed)\n",
    "\n",
    "# 多线程运行（用于后面同时滞后阶）\n",
    "def df_parallelize_run(func, t_split):\n",
    "    num_cores = np.min([N_CORES,len(t_split)])\n",
    "    pool = Pool(num_cores)\n",
    "    df = pd.concat(pool.map(func, t_split), axis=1)\n",
    "    pool.close()\n",
    "    pool.join()\n",
    "    return df\n",
    "\n",
    "def get_data_by_store(store):\n",
    "    df = pd.concat([pd.read_pickle(BASE),\n",
    "                    pd.read_pickle(PRICE).iloc[:,2:],\n",
    "                    pd.read_pickle(CALENDAR).iloc[:,2:]],\n",
    "                    axis=1)\n",
    "    \n",
    "    # 只使用其中的一个商店建模\n",
    "    df = df[df['store_id']==store]\n",
    "    df2 = pd.read_pickle(MEAN_ENC)[mean_features]\n",
    "    df2 = df2[df2.index.isin(df.index)]\n",
    "    \n",
    "    df3 = pd.read_pickle(LAGS).iloc[:,3:]\n",
    "    df3 = df3[df3.index.isin(df.index)]\n",
    "    \n",
    "    df = pd.concat([df, df2], axis=1)\n",
    "    del df2\n",
    "    \n",
    "    df = pd.concat([df, df3], axis=1)\n",
    "    del df3\n",
    "    \n",
    "    # Create features list\n",
    "    features = [col for col in list(df) if col not in remove_features]\n",
    "    df = df[['id','d',TARGET]+features]\n",
    "    \n",
    "    # Skipping first n rows\n",
    "    df = df[df['d']>=START_TRAIN].reset_index(drop=True)\n",
    "    \n",
    "    return df, features"
   ]
  },
  {
   "cell_type": "markdown",
   "metadata": {
    "toc-hr-collapsed": false
   },
   "source": [
    "#### 2.模型训练"
   ]
  },
  {
   "cell_type": "code",
   "execution_count": 3,
   "metadata": {},
   "outputs": [],
   "source": [
    "import lightgbm as lgb\n",
    "lgb_params = {\n",
    "                    'boosting_type': 'gbdt',\n",
    "                    'objective': 'tweedie',\n",
    "                    'tweedie_variance_power': 1.1,\n",
    "                    'metric': 'rmse',\n",
    "                    'subsample': 0.5,\n",
    "                    'subsample_freq': 1,\n",
    "                    'learning_rate': 0.03,\n",
    "                    'num_leaves': 2**11-1,\n",
    "                    'min_data_in_leaf': 2**12-1,\n",
    "                    'feature_fraction': 0.5,\n",
    "                    'max_bin': 100,\n",
    "                    'n_estimators': 1400,\n",
    "                    'boost_from_average': False,\n",
    "                    'verbose': -1,\n",
    "                } "
   ]
  },
  {
   "cell_type": "code",
   "execution_count": 4,
   "metadata": {},
   "outputs": [],
   "source": [
    "########## 定义常量 ##########\n",
    "VER = 1                          \n",
    "SEED = 42                        \n",
    "seed_everything(SEED)            \n",
    "lgb_params['seed'] = SEED        \n",
    "N_CORES = psutil.cpu_count() # 获取可以使用的CPU个数，方便操作\n",
    "\n",
    "\n",
    "TARGET      = 'sales'            \n",
    "START_TRAIN = 0                  \n",
    "END_TRAIN   = 1913               \n",
    "P_HORIZON   = 28                 \n",
    "USE_AUX     = False              \n",
    "\n",
    "remove_features = ['id','state_id','store_id',\n",
    "                   'date','wm_yr_wk','d',TARGET]\n",
    "mean_features   = ['enc_cat_id_mean','enc_cat_id_std',\n",
    "                   'enc_dept_id_mean','enc_dept_id_std',\n",
    "                   'enc_item_id_mean','enc_item_id_std'] \n",
    "\n",
    "#PATHS for Features\n",
    "ORIGINAL = './Input/'\n",
    "BASE     = './Processing/Features/Basic_FE/grid_part_1.pkl'\n",
    "PRICE    = './Processing/Features/Basic_FE/grid_part_2.pkl'\n",
    "CALENDAR = './Processing/Features/Basic_FE/grid_part_3.pkl'\n",
    "LAGS     = './Processing/Features/Lags_FE/lags_df_28.pkl'\n",
    "MEAN_ENC = './Processing/Features/Combined_FE/mean_encoding_df.pkl'\n",
    "AUX_MODELS = './Processing/Pretrained_models/'\n",
    "\n",
    "\n",
    "STORES_IDS = pd.read_csv(ORIGINAL+'sales_train_validation.csv')['store_id']\n",
    "STORES_IDS = list(STORES_IDS.unique())\n",
    "SHIFT_DAY  = 28\n",
    "N_LAGS     = 15\n",
    "LAGS_SPLIT = [col for col in range(SHIFT_DAY,SHIFT_DAY+N_LAGS)]\n",
    "ROLS_SPLIT = []\n",
    "for i in [1,8,15]:\n",
    "    for j in [7,14,30,60]:\n",
    "        ROLS_SPLIT.append([i,j])"
   ]
  },
  {
   "cell_type": "markdown",
   "metadata": {},
   "source": [
    "所有特征信息："
   ]
  },
  {
   "cell_type": "code",
   "execution_count": 9,
   "metadata": {},
   "outputs": [
    {
     "name": "stdout",
     "output_type": "stream",
     "text": [
      "<class 'pandas.core.frame.DataFrame'>\n",
      "RangeIndex: 4797955 entries, 0 to 4797954\n",
      "Data columns (total 75 columns):\n",
      " #   Column                  Dtype   \n",
      "---  ------                  -----   \n",
      " 0   id                      category\n",
      " 1   d                       int16   \n",
      " 2   sales                   float64 \n",
      " 3   item_id                 category\n",
      " 4   dept_id                 category\n",
      " 5   cat_id                  category\n",
      " 6   release                 int16   \n",
      " 7   sell_price              float16 \n",
      " 8   price_max               float16 \n",
      " 9   price_min               float16 \n",
      " 10  price_std               float16 \n",
      " 11  price_mean              float16 \n",
      " 12  price_norm              float16 \n",
      " 13  price_nunique           float16 \n",
      " 14  item_nunique            int16   \n",
      " 15  price_momentum          float16 \n",
      " 16  price_momentum_m        float16 \n",
      " 17  price_momentum_y        float16 \n",
      " 18  event_name_1            category\n",
      " 19  event_type_1            category\n",
      " 20  event_name_2            category\n",
      " 21  event_type_2            category\n",
      " 22  snap_CA                 category\n",
      " 23  snap_TX                 category\n",
      " 24  snap_WI                 category\n",
      " 25  tm_d                    int8    \n",
      " 26  tm_w                    int8    \n",
      " 27  tm_m                    int8    \n",
      " 28  tm_y                    int8    \n",
      " 29  tm_wm                   int8    \n",
      " 30  tm_dw                   int8    \n",
      " 31  tm_w_end                int8    \n",
      " 32  enc_cat_id_mean         float16 \n",
      " 33  enc_cat_id_std          float16 \n",
      " 34  enc_dept_id_mean        float16 \n",
      " 35  enc_dept_id_std         float16 \n",
      " 36  enc_item_id_mean        float16 \n",
      " 37  enc_item_id_std         float16 \n",
      " 38  sales_lag_28            float16 \n",
      " 39  sales_lag_29            float16 \n",
      " 40  sales_lag_30            float16 \n",
      " 41  sales_lag_31            float16 \n",
      " 42  sales_lag_32            float16 \n",
      " 43  sales_lag_33            float16 \n",
      " 44  sales_lag_34            float16 \n",
      " 45  sales_lag_35            float16 \n",
      " 46  sales_lag_36            float16 \n",
      " 47  sales_lag_37            float16 \n",
      " 48  sales_lag_38            float16 \n",
      " 49  sales_lag_39            float16 \n",
      " 50  sales_lag_40            float16 \n",
      " 51  sales_lag_41            float16 \n",
      " 52  sales_lag_42            float16 \n",
      " 53  rolling_mean_7          float16 \n",
      " 54  rolling_std_7           float16 \n",
      " 55  rolling_mean_14         float16 \n",
      " 56  rolling_std_14          float16 \n",
      " 57  rolling_mean_30         float16 \n",
      " 58  rolling_std_30          float16 \n",
      " 59  rolling_mean_60         float16 \n",
      " 60  rolling_std_60          float16 \n",
      " 61  rolling_mean_180        float16 \n",
      " 62  rolling_std_180         float16 \n",
      " 63  rolling_mean_tmp_1_7    float16 \n",
      " 64  rolling_mean_tmp_1_14   float16 \n",
      " 65  rolling_mean_tmp_1_30   float16 \n",
      " 66  rolling_mean_tmp_1_60   float16 \n",
      " 67  rolling_mean_tmp_8_7    float16 \n",
      " 68  rolling_mean_tmp_8_14   float16 \n",
      " 69  rolling_mean_tmp_8_30   float16 \n",
      " 70  rolling_mean_tmp_8_60   float16 \n",
      " 71  rolling_mean_tmp_15_7   float16 \n",
      " 72  rolling_mean_tmp_15_14  float16 \n",
      " 73  rolling_mean_tmp_15_30  float16 \n",
      " 74  rolling_mean_tmp_15_60  float16 \n",
      "dtypes: category(11), float16(53), float64(1), int16(3), int8(7)\n",
      "memory usage: 642.2 MB\n"
     ]
    }
   ],
   "source": [
    "data_df, features_columns = get_data_by_store(\"TX_1\")\n",
    "data_df.info()"
   ]
  },
  {
   "cell_type": "code",
   "execution_count": 12,
   "metadata": {},
   "outputs": [
    {
     "name": "stdout",
     "output_type": "stream",
     "text": [
      "Train WI_2\n",
      "[100]\tvalid_0's rmse: 2.6931\n",
      "[200]\tvalid_0's rmse: 2.5883\n",
      "[300]\tvalid_0's rmse: 2.55299\n",
      "[400]\tvalid_0's rmse: 2.52937\n",
      "[500]\tvalid_0's rmse: 2.51094\n",
      "[600]\tvalid_0's rmse: 2.49531\n",
      "[700]\tvalid_0's rmse: 2.48019\n",
      "[800]\tvalid_0's rmse: 2.46357\n",
      "[900]\tvalid_0's rmse: 2.45136\n",
      "[1000]\tvalid_0's rmse: 2.4381\n",
      "[1100]\tvalid_0's rmse: 2.42752\n",
      "[1200]\tvalid_0's rmse: 2.41693\n",
      "[1300]\tvalid_0's rmse: 2.40717\n",
      "[1400]\tvalid_0's rmse: 2.39861\n",
      "##### 训练 WI_2 #####\n",
      "用时  22.82 min round |  22.82 min total |\n",
      "Train WI_3\n",
      "[100]\tvalid_0's rmse: 1.92421\n",
      "[200]\tvalid_0's rmse: 1.85264\n",
      "[300]\tvalid_0's rmse: 1.83094\n",
      "[400]\tvalid_0's rmse: 1.81917\n",
      "[500]\tvalid_0's rmse: 1.80916\n",
      "[600]\tvalid_0's rmse: 1.80237\n",
      "[700]\tvalid_0's rmse: 1.79451\n",
      "[800]\tvalid_0's rmse: 1.78887\n",
      "[900]\tvalid_0's rmse: 1.78213\n",
      "[1000]\tvalid_0's rmse: 1.77683\n",
      "[1100]\tvalid_0's rmse: 1.77106\n",
      "[1200]\tvalid_0's rmse: 1.76698\n",
      "[1300]\tvalid_0's rmse: 1.76049\n",
      "[1400]\tvalid_0's rmse: 1.75727\n",
      "##### 训练 WI_3 #####\n",
      "用时  22.74 min round |  45.56 min total |\n"
     ]
    }
   ],
   "source": [
    "########## 训练模型 ##########\n",
    "WORKING = './Processing/Working_trained_models/'\n",
    "if USE_AUX:\n",
    "    lgb_params['n_estimators'] = 2\n",
    "    \n",
    "\n",
    "main_time = time.time()\n",
    "# for store_id in STORES_IDS:  ————由于每个商店训练都要接近1个小时，因此分批进行\n",
    "# 第一批：for store_id in [\"CA_1\"]:\n",
    "# 第二批：for store_id in [\"CA_2\",\"CA_3\",\"CA_4\"]:\n",
    "# 第三批：for store_id in [\"TX_2\",\"TX_3\",\"WI_1\"]:\n",
    "# 第四批：\n",
    "for store_id in [\"WI_2\",\"WI_3\"]:\n",
    "    print('Train', store_id)\n",
    "    start_time = time.time()\n",
    "    data_df, features_columns = get_data_by_store(store_id)\n",
    "    train_mask = data_df['d']<=END_TRAIN\n",
    "    valid_mask = train_mask&(data_df['d']>(END_TRAIN-P_HORIZON))\n",
    "    preds_mask = data_df['d']>(END_TRAIN-100)\n",
    "    \n",
    "    train_data = lgb.Dataset(data_df[train_mask][features_columns], \n",
    "                       label=data_df[train_mask][TARGET])\n",
    "    train_data.save_binary(WORKING+'train_data.bin')\n",
    "    train_data = lgb.Dataset(WORKING+'train_data.bin')\n",
    "    valid_data = lgb.Dataset(data_df[valid_mask][features_columns], \n",
    "                       label=data_df[valid_mask][TARGET])\n",
    "\n",
    "    data_df = data_df[preds_mask].reset_index(drop=True)\n",
    "    keep_cols = [col for col in list(data_df) if '_tmp_' not in col]\n",
    "    data_df = data_df[keep_cols]\n",
    "    data_df.to_pickle(WORKING+'test_'+store_id+'.pkl')\n",
    "    del data_df\n",
    "    \n",
    "    seed_everything(SEED)\n",
    "    estimator = lgb.train(lgb_params,\n",
    "                          train_data,\n",
    "                          valid_sets = [valid_data],\n",
    "                          verbose_eval = 100,\n",
    "                          )\n",
    "    \n",
    "    model_name = 'lgb_model_'+store_id+'_v'+str(VER)+'.bin'\n",
    "    pickle.dump(estimator, open(WORKING+model_name, 'wb'))\n",
    "\n",
    "    \n",
    "    os.remove(WORKING+'train_data.bin')\n",
    "    del train_data, valid_data, estimator\n",
    "    gc.collect()\n",
    "    \n",
    "    MODEL_FEATURES = features_columns\n",
    "    print('#'*5,\"训练\",store_id,'#'*5)\n",
    "    print('用时',  ' %0.2f min round |' % ((time.time() - start_time) / 60),\n",
    "                  ' %0.2f min total |' % ((time.time() - main_time) / 60))"
   ]
  },
  {
   "cell_type": "markdown",
   "metadata": {},
   "source": [
    "### 3. 结果\n",
    "把所有数据加总起来，得到training set + validaiton set的结果：\n",
    "\n",
    "![title](https://cdn.nlark.com/yuque/0/2020/png/1301375/1591949170631-1b80b27b-d8fa-426e-8338-b4aa47e988d8.png)"
   ]
  },
  {
   "cell_type": "markdown",
   "metadata": {},
   "source": [
    "# 第三部分 预测"
   ]
  },
  {
   "cell_type": "markdown",
   "metadata": {},
   "source": [
    "> 这部分是对未来28天做出新的预测（目前还不知道真实数据，只会在我们提交结果后返回一个大概的RMSE分数）"
   ]
  },
  {
   "cell_type": "code",
   "execution_count": 13,
   "metadata": {},
   "outputs": [
    {
     "name": "stdout",
     "output_type": "stream",
     "text": [
      "Predict | Day: 1\n",
      "##########  1.42 min round |  1.42 min total |  37171.39 day sales |\n",
      "Predict | Day: 2\n",
      "##########  1.47 min round |  2.90 min total |  35328.36 day sales |\n",
      "Predict | Day: 3\n",
      "##########  1.65 min round |  4.54 min total |  34808.64 day sales |\n",
      "Predict | Day: 4\n",
      "##########  1.73 min round |  6.27 min total |  35293.22 day sales |\n",
      "Predict | Day: 5\n",
      "##########  1.53 min round |  7.80 min total |  41625.95 day sales |\n",
      "Predict | Day: 6\n",
      "##########  1.49 min round |  9.28 min total |  51069.95 day sales |\n",
      "Predict | Day: 7\n",
      "##########  1.40 min round |  10.68 min total |  53167.26 day sales |\n",
      "Predict | Day: 8\n",
      "##########  1.38 min round |  12.06 min total |  44445.42 day sales |\n",
      "Predict | Day: 9\n",
      "##########  1.41 min round |  13.48 min total |  44473.51 day sales |\n",
      "Predict | Day: 10\n",
      "##########  1.40 min round |  14.87 min total |  38937.51 day sales |\n",
      "Predict | Day: 11\n",
      "##########  1.47 min round |  16.34 min total |  40953.07 day sales |\n",
      "Predict | Day: 12\n",
      "##########  1.42 min round |  17.76 min total |  45969.61 day sales |\n",
      "Predict | Day: 13\n",
      "##########  1.37 min round |  19.13 min total |  54020.20 day sales |\n",
      "Predict | Day: 14\n",
      "##########  1.33 min round |  20.46 min total |  46377.87 day sales |\n",
      "Predict | Day: 15\n",
      "##########  1.38 min round |  21.83 min total |  45050.82 day sales |\n",
      "Predict | Day: 16\n",
      "##########  1.41 min round |  23.24 min total |  39517.02 day sales |\n",
      "Predict | Day: 17\n",
      "##########  1.39 min round |  24.63 min total |  40437.59 day sales |\n",
      "Predict | Day: 18\n",
      "##########  1.40 min round |  26.03 min total |  40989.09 day sales |\n",
      "Predict | Day: 19\n",
      "##########  1.49 min round |  27.51 min total |  44046.69 day sales |\n",
      "Predict | Day: 20\n",
      "##########  1.46 min round |  28.97 min total |  53678.15 day sales |\n",
      "Predict | Day: 21\n",
      "##########  1.44 min round |  30.41 min total |  55935.27 day sales |\n",
      "Predict | Day: 22\n",
      "##########  1.46 min round |  31.87 min total |  41908.04 day sales |\n",
      "Predict | Day: 23\n",
      "##########  1.45 min round |  33.32 min total |  38045.27 day sales |\n",
      "Predict | Day: 24\n",
      "##########  1.44 min round |  34.76 min total |  37139.69 day sales |\n",
      "Predict | Day: 25\n",
      "##########  1.43 min round |  36.19 min total |  37046.76 day sales |\n",
      "Predict | Day: 26\n",
      "##########  1.42 min round |  37.61 min total |  41868.93 day sales |\n",
      "Predict | Day: 27\n",
      "##########  1.45 min round |  39.06 min total |  50780.88 day sales |\n",
      "Predict | Day: 28\n",
      "##########  1.74 min round |  40.80 min total |  51434.96 day sales |\n"
     ]
    },
    {
     "data": {
      "text/html": [
       "<div>\n",
       "<style scoped>\n",
       "    .dataframe tbody tr th:only-of-type {\n",
       "        vertical-align: middle;\n",
       "    }\n",
       "\n",
       "    .dataframe tbody tr th {\n",
       "        vertical-align: top;\n",
       "    }\n",
       "\n",
       "    .dataframe thead th {\n",
       "        text-align: right;\n",
       "    }\n",
       "</style>\n",
       "<table border=\"1\" class=\"dataframe\">\n",
       "  <thead>\n",
       "    <tr style=\"text-align: right;\">\n",
       "      <th></th>\n",
       "      <th>id</th>\n",
       "      <th>F1</th>\n",
       "      <th>F2</th>\n",
       "      <th>F3</th>\n",
       "      <th>F4</th>\n",
       "      <th>F5</th>\n",
       "      <th>F6</th>\n",
       "      <th>F7</th>\n",
       "      <th>F8</th>\n",
       "      <th>F9</th>\n",
       "      <th>...</th>\n",
       "      <th>F19</th>\n",
       "      <th>F20</th>\n",
       "      <th>F21</th>\n",
       "      <th>F22</th>\n",
       "      <th>F23</th>\n",
       "      <th>F24</th>\n",
       "      <th>F25</th>\n",
       "      <th>F26</th>\n",
       "      <th>F27</th>\n",
       "      <th>F28</th>\n",
       "    </tr>\n",
       "  </thead>\n",
       "  <tbody>\n",
       "    <tr>\n",
       "      <th>0</th>\n",
       "      <td>HOBBIES_1_001_CA_1_validation</td>\n",
       "      <td>0.792804</td>\n",
       "      <td>0.749672</td>\n",
       "      <td>0.752070</td>\n",
       "      <td>0.772603</td>\n",
       "      <td>0.948799</td>\n",
       "      <td>1.088926</td>\n",
       "      <td>1.094505</td>\n",
       "      <td>0.801494</td>\n",
       "      <td>0.840225</td>\n",
       "      <td>...</td>\n",
       "      <td>0.806219</td>\n",
       "      <td>1.036667</td>\n",
       "      <td>1.020917</td>\n",
       "      <td>0.861781</td>\n",
       "      <td>0.777121</td>\n",
       "      <td>0.748128</td>\n",
       "      <td>0.829500</td>\n",
       "      <td>0.919716</td>\n",
       "      <td>1.113970</td>\n",
       "      <td>0.972772</td>\n",
       "    </tr>\n",
       "    <tr>\n",
       "      <th>1</th>\n",
       "      <td>HOBBIES_1_002_CA_1_validation</td>\n",
       "      <td>0.191488</td>\n",
       "      <td>0.193179</td>\n",
       "      <td>0.187152</td>\n",
       "      <td>0.208578</td>\n",
       "      <td>0.233912</td>\n",
       "      <td>0.336325</td>\n",
       "      <td>0.331070</td>\n",
       "      <td>0.251728</td>\n",
       "      <td>0.239364</td>\n",
       "      <td>...</td>\n",
       "      <td>0.215188</td>\n",
       "      <td>0.257768</td>\n",
       "      <td>0.270603</td>\n",
       "      <td>0.196679</td>\n",
       "      <td>0.181287</td>\n",
       "      <td>0.193799</td>\n",
       "      <td>0.216968</td>\n",
       "      <td>0.204213</td>\n",
       "      <td>0.262657</td>\n",
       "      <td>0.257018</td>\n",
       "    </tr>\n",
       "    <tr>\n",
       "      <th>2</th>\n",
       "      <td>HOBBIES_1_003_CA_1_validation</td>\n",
       "      <td>0.379940</td>\n",
       "      <td>0.368240</td>\n",
       "      <td>0.363692</td>\n",
       "      <td>0.365548</td>\n",
       "      <td>0.552073</td>\n",
       "      <td>0.714680</td>\n",
       "      <td>0.707287</td>\n",
       "      <td>0.463409</td>\n",
       "      <td>0.443078</td>\n",
       "      <td>...</td>\n",
       "      <td>0.544252</td>\n",
       "      <td>0.723599</td>\n",
       "      <td>0.696615</td>\n",
       "      <td>0.472421</td>\n",
       "      <td>0.415346</td>\n",
       "      <td>0.428760</td>\n",
       "      <td>0.440484</td>\n",
       "      <td>0.576813</td>\n",
       "      <td>0.706849</td>\n",
       "      <td>0.684763</td>\n",
       "    </tr>\n",
       "    <tr>\n",
       "      <th>3</th>\n",
       "      <td>HOBBIES_1_004_CA_1_validation</td>\n",
       "      <td>1.637411</td>\n",
       "      <td>1.349495</td>\n",
       "      <td>1.422994</td>\n",
       "      <td>1.592425</td>\n",
       "      <td>1.835404</td>\n",
       "      <td>2.931873</td>\n",
       "      <td>3.160227</td>\n",
       "      <td>1.656267</td>\n",
       "      <td>1.463258</td>\n",
       "      <td>...</td>\n",
       "      <td>1.955177</td>\n",
       "      <td>2.583192</td>\n",
       "      <td>3.128522</td>\n",
       "      <td>1.611140</td>\n",
       "      <td>1.439327</td>\n",
       "      <td>1.356890</td>\n",
       "      <td>1.376622</td>\n",
       "      <td>1.994211</td>\n",
       "      <td>3.013912</td>\n",
       "      <td>3.438066</td>\n",
       "    </tr>\n",
       "    <tr>\n",
       "      <th>4</th>\n",
       "      <td>HOBBIES_1_005_CA_1_validation</td>\n",
       "      <td>0.891737</td>\n",
       "      <td>0.808944</td>\n",
       "      <td>0.868869</td>\n",
       "      <td>0.914458</td>\n",
       "      <td>1.180418</td>\n",
       "      <td>1.528721</td>\n",
       "      <td>1.545139</td>\n",
       "      <td>1.043787</td>\n",
       "      <td>1.022665</td>\n",
       "      <td>...</td>\n",
       "      <td>1.117353</td>\n",
       "      <td>1.619810</td>\n",
       "      <td>1.623851</td>\n",
       "      <td>0.975397</td>\n",
       "      <td>0.870023</td>\n",
       "      <td>0.903613</td>\n",
       "      <td>0.925429</td>\n",
       "      <td>1.154709</td>\n",
       "      <td>1.554228</td>\n",
       "      <td>1.544786</td>\n",
       "    </tr>\n",
       "    <tr>\n",
       "      <th>...</th>\n",
       "      <td>...</td>\n",
       "      <td>...</td>\n",
       "      <td>...</td>\n",
       "      <td>...</td>\n",
       "      <td>...</td>\n",
       "      <td>...</td>\n",
       "      <td>...</td>\n",
       "      <td>...</td>\n",
       "      <td>...</td>\n",
       "      <td>...</td>\n",
       "      <td>...</td>\n",
       "      <td>...</td>\n",
       "      <td>...</td>\n",
       "      <td>...</td>\n",
       "      <td>...</td>\n",
       "      <td>...</td>\n",
       "      <td>...</td>\n",
       "      <td>...</td>\n",
       "      <td>...</td>\n",
       "      <td>...</td>\n",
       "      <td>...</td>\n",
       "    </tr>\n",
       "    <tr>\n",
       "      <th>30485</th>\n",
       "      <td>FOODS_3_823_WI_3_validation</td>\n",
       "      <td>0.468457</td>\n",
       "      <td>0.366118</td>\n",
       "      <td>0.377015</td>\n",
       "      <td>0.355935</td>\n",
       "      <td>0.470284</td>\n",
       "      <td>0.480894</td>\n",
       "      <td>0.504204</td>\n",
       "      <td>0.544415</td>\n",
       "      <td>0.564110</td>\n",
       "      <td>...</td>\n",
       "      <td>0.442472</td>\n",
       "      <td>0.585208</td>\n",
       "      <td>0.658194</td>\n",
       "      <td>0.464278</td>\n",
       "      <td>0.410157</td>\n",
       "      <td>0.406897</td>\n",
       "      <td>0.343982</td>\n",
       "      <td>0.403891</td>\n",
       "      <td>0.461469</td>\n",
       "      <td>0.528564</td>\n",
       "    </tr>\n",
       "    <tr>\n",
       "      <th>30486</th>\n",
       "      <td>FOODS_3_824_WI_3_validation</td>\n",
       "      <td>0.298697</td>\n",
       "      <td>0.260727</td>\n",
       "      <td>0.270434</td>\n",
       "      <td>0.259647</td>\n",
       "      <td>0.289540</td>\n",
       "      <td>0.347416</td>\n",
       "      <td>0.353390</td>\n",
       "      <td>0.375718</td>\n",
       "      <td>0.360009</td>\n",
       "      <td>...</td>\n",
       "      <td>0.313614</td>\n",
       "      <td>0.416405</td>\n",
       "      <td>0.487685</td>\n",
       "      <td>0.346969</td>\n",
       "      <td>0.283630</td>\n",
       "      <td>0.281423</td>\n",
       "      <td>0.264558</td>\n",
       "      <td>0.270870</td>\n",
       "      <td>0.332772</td>\n",
       "      <td>0.310542</td>\n",
       "    </tr>\n",
       "    <tr>\n",
       "      <th>30487</th>\n",
       "      <td>FOODS_3_825_WI_3_validation</td>\n",
       "      <td>0.691676</td>\n",
       "      <td>0.581810</td>\n",
       "      <td>0.508487</td>\n",
       "      <td>0.499157</td>\n",
       "      <td>0.633478</td>\n",
       "      <td>0.737460</td>\n",
       "      <td>0.830546</td>\n",
       "      <td>1.174334</td>\n",
       "      <td>1.168332</td>\n",
       "      <td>...</td>\n",
       "      <td>0.977514</td>\n",
       "      <td>1.282231</td>\n",
       "      <td>1.530529</td>\n",
       "      <td>1.123949</td>\n",
       "      <td>0.805839</td>\n",
       "      <td>0.687782</td>\n",
       "      <td>0.653544</td>\n",
       "      <td>0.713731</td>\n",
       "      <td>0.913368</td>\n",
       "      <td>0.858266</td>\n",
       "    </tr>\n",
       "    <tr>\n",
       "      <th>30488</th>\n",
       "      <td>FOODS_3_826_WI_3_validation</td>\n",
       "      <td>0.986866</td>\n",
       "      <td>0.991383</td>\n",
       "      <td>0.802164</td>\n",
       "      <td>0.772970</td>\n",
       "      <td>0.872128</td>\n",
       "      <td>1.176478</td>\n",
       "      <td>1.058909</td>\n",
       "      <td>1.123743</td>\n",
       "      <td>1.165685</td>\n",
       "      <td>...</td>\n",
       "      <td>1.056986</td>\n",
       "      <td>1.312054</td>\n",
       "      <td>1.309679</td>\n",
       "      <td>0.944712</td>\n",
       "      <td>0.835693</td>\n",
       "      <td>0.854994</td>\n",
       "      <td>0.773563</td>\n",
       "      <td>0.970022</td>\n",
       "      <td>1.009741</td>\n",
       "      <td>1.185694</td>\n",
       "    </tr>\n",
       "    <tr>\n",
       "      <th>30489</th>\n",
       "      <td>FOODS_3_827_WI_3_validation</td>\n",
       "      <td>0.212111</td>\n",
       "      <td>1.325666</td>\n",
       "      <td>1.681337</td>\n",
       "      <td>2.166726</td>\n",
       "      <td>2.319908</td>\n",
       "      <td>2.745114</td>\n",
       "      <td>2.402642</td>\n",
       "      <td>2.528642</td>\n",
       "      <td>2.637379</td>\n",
       "      <td>...</td>\n",
       "      <td>1.873912</td>\n",
       "      <td>2.683123</td>\n",
       "      <td>2.613914</td>\n",
       "      <td>1.878464</td>\n",
       "      <td>1.799750</td>\n",
       "      <td>1.647260</td>\n",
       "      <td>1.501046</td>\n",
       "      <td>1.866244</td>\n",
       "      <td>2.322371</td>\n",
       "      <td>2.219973</td>\n",
       "    </tr>\n",
       "  </tbody>\n",
       "</table>\n",
       "<p>30490 rows × 29 columns</p>\n",
       "</div>"
      ],
      "text/plain": [
       "                                  id        F1        F2        F3        F4  \\\n",
       "0      HOBBIES_1_001_CA_1_validation  0.792804  0.749672  0.752070  0.772603   \n",
       "1      HOBBIES_1_002_CA_1_validation  0.191488  0.193179  0.187152  0.208578   \n",
       "2      HOBBIES_1_003_CA_1_validation  0.379940  0.368240  0.363692  0.365548   \n",
       "3      HOBBIES_1_004_CA_1_validation  1.637411  1.349495  1.422994  1.592425   \n",
       "4      HOBBIES_1_005_CA_1_validation  0.891737  0.808944  0.868869  0.914458   \n",
       "...                              ...       ...       ...       ...       ...   \n",
       "30485    FOODS_3_823_WI_3_validation  0.468457  0.366118  0.377015  0.355935   \n",
       "30486    FOODS_3_824_WI_3_validation  0.298697  0.260727  0.270434  0.259647   \n",
       "30487    FOODS_3_825_WI_3_validation  0.691676  0.581810  0.508487  0.499157   \n",
       "30488    FOODS_3_826_WI_3_validation  0.986866  0.991383  0.802164  0.772970   \n",
       "30489    FOODS_3_827_WI_3_validation  0.212111  1.325666  1.681337  2.166726   \n",
       "\n",
       "             F5        F6        F7        F8        F9  ...       F19  \\\n",
       "0      0.948799  1.088926  1.094505  0.801494  0.840225  ...  0.806219   \n",
       "1      0.233912  0.336325  0.331070  0.251728  0.239364  ...  0.215188   \n",
       "2      0.552073  0.714680  0.707287  0.463409  0.443078  ...  0.544252   \n",
       "3      1.835404  2.931873  3.160227  1.656267  1.463258  ...  1.955177   \n",
       "4      1.180418  1.528721  1.545139  1.043787  1.022665  ...  1.117353   \n",
       "...         ...       ...       ...       ...       ...  ...       ...   \n",
       "30485  0.470284  0.480894  0.504204  0.544415  0.564110  ...  0.442472   \n",
       "30486  0.289540  0.347416  0.353390  0.375718  0.360009  ...  0.313614   \n",
       "30487  0.633478  0.737460  0.830546  1.174334  1.168332  ...  0.977514   \n",
       "30488  0.872128  1.176478  1.058909  1.123743  1.165685  ...  1.056986   \n",
       "30489  2.319908  2.745114  2.402642  2.528642  2.637379  ...  1.873912   \n",
       "\n",
       "            F20       F21       F22       F23       F24       F25       F26  \\\n",
       "0      1.036667  1.020917  0.861781  0.777121  0.748128  0.829500  0.919716   \n",
       "1      0.257768  0.270603  0.196679  0.181287  0.193799  0.216968  0.204213   \n",
       "2      0.723599  0.696615  0.472421  0.415346  0.428760  0.440484  0.576813   \n",
       "3      2.583192  3.128522  1.611140  1.439327  1.356890  1.376622  1.994211   \n",
       "4      1.619810  1.623851  0.975397  0.870023  0.903613  0.925429  1.154709   \n",
       "...         ...       ...       ...       ...       ...       ...       ...   \n",
       "30485  0.585208  0.658194  0.464278  0.410157  0.406897  0.343982  0.403891   \n",
       "30486  0.416405  0.487685  0.346969  0.283630  0.281423  0.264558  0.270870   \n",
       "30487  1.282231  1.530529  1.123949  0.805839  0.687782  0.653544  0.713731   \n",
       "30488  1.312054  1.309679  0.944712  0.835693  0.854994  0.773563  0.970022   \n",
       "30489  2.683123  2.613914  1.878464  1.799750  1.647260  1.501046  1.866244   \n",
       "\n",
       "            F27       F28  \n",
       "0      1.113970  0.972772  \n",
       "1      0.262657  0.257018  \n",
       "2      0.706849  0.684763  \n",
       "3      3.013912  3.438066  \n",
       "4      1.554228  1.544786  \n",
       "...         ...       ...  \n",
       "30485  0.461469  0.528564  \n",
       "30486  0.332772  0.310542  \n",
       "30487  0.913368  0.858266  \n",
       "30488  1.009741  1.185694  \n",
       "30489  2.322371  2.219973  \n",
       "\n",
       "[30490 rows x 29 columns]"
      ]
     },
     "execution_count": 13,
     "metadata": {},
     "output_type": "execute_result"
    }
   ],
   "source": [
    "########## Predict ##########\n",
    "all_preds = pd.DataFrame()\n",
    "\n",
    "# 把无标签的测试集 和 最后100天的训练集连接起来，因为需要make recursive features\n",
    "def get_base_test():\n",
    "    base_test = pd.DataFrame()\n",
    "    for store_id in STORES_IDS:\n",
    "        if USE_AUX:\n",
    "            temp_df = pd.read_pickle('./Processing/Pretrained_models/'+'test_'+store_id+'.pkl')\n",
    "        else:\n",
    "            # 建立完模型之后，对每个storeID会会保存100天的数据\n",
    "            temp_df = pd.read_pickle('./Processing/Working_trained_models/'+'test_'+store_id+'.pkl')\n",
    "        temp_df['store_id'] = store_id\n",
    "        # 每个商店100天连接起来\n",
    "        base_test = pd.concat([base_test, temp_df]).reset_index(drop=True)\n",
    "    return base_test\n",
    "\n",
    "base_test = get_base_test()\n",
    "\n",
    "# 进一步Make dynamic rolling lags\n",
    "def make_lag(LAG_DAY):\n",
    "    '''\n",
    "    对base_test进行滞后处理\n",
    "    :LAG_DAY - 滞后的天数\n",
    "    '''\n",
    "    lag_df = base_test[['id','d',TARGET]]\n",
    "    col_name = 'sales_lag_'+str(LAG_DAY)\n",
    "    lag_df[col_name] = lag_df.groupby(['id'])[TARGET].transform(lambda x: x.shift(LAG_DAY)).astype(np.float16)\n",
    "    return lag_df[[col_name]]\n",
    "\n",
    "def make_lag_roll(LAG_DAY):\n",
    "    '''\n",
    "    对base_test进行滞后处理\n",
    "    :LAG_DAY - [滞后的天数, 进行rolling window的天数]\n",
    "    '''\n",
    "    shift_day = LAG_DAY[0]\n",
    "    roll_wind = LAG_DAY[1]\n",
    "    lag_df = base_test[['id','d',TARGET]]\n",
    "    col_name = 'rolling_mean_tmp_'+str(shift_day)+'_'+str(roll_wind)\n",
    "    lag_df[col_name] = lag_df.groupby(['id'])[TARGET].transform(lambda x: x.shift(shift_day).rolling(roll_wind).mean())\n",
    "    return lag_df[[col_name]]\n",
    "\n",
    "main_time = time.time()\n",
    "\n",
    "for PREDICT_DAY in range(1,29):    \n",
    "    print('Predict | Day:', PREDICT_DAY)\n",
    "    start_time = time.time()\n",
    "\n",
    "    # Make temporary grid to calculate rolling lags\n",
    "    data_df = base_test.copy()\n",
    "    data_df = pd.concat([data_df, df_parallelize_run(make_lag_roll, ROLS_SPLIT)], axis=1)\n",
    "        # 这里的make_lag_roll对100天+28天的数据进行处理，产生了最后28天的数据标签（因为没有lag1～28所以fine）\n",
    "        \n",
    "    for store_id in STORES_IDS:\n",
    "        model_name = 'lgb_model_'+store_id+'_v'+str(VER)+'.bin' \n",
    "        if USE_AUX:\n",
    "            model_path = AUX_MODELS + model_name\n",
    "        else:\n",
    "            model_path = WORKING + model_name\n",
    "        \n",
    "        estimator = pickle.load(open(model_path, 'rb'))\n",
    "        \n",
    "        day_mask = base_test['d']==(END_TRAIN+PREDICT_DAY)\n",
    "        store_mask = base_test['store_id']==store_id\n",
    "        \n",
    "        mask = (day_mask)&(store_mask)\n",
    "        base_test[TARGET][mask] = estimator.predict(data_df[mask][MODEL_FEATURES])\n",
    "    \n",
    "    temp_df = base_test[day_mask][['id',TARGET]]\n",
    "    temp_df.columns = ['id','F'+str(PREDICT_DAY)]\n",
    "    if 'id' in list(all_preds):\n",
    "        all_preds = all_preds.merge(temp_df, on=['id'], how='left')\n",
    "    else:\n",
    "        all_preds = temp_df.copy()\n",
    "        \n",
    "    print('#'*10, ' %0.2f min round |' % ((time.time() - start_time) / 60),\n",
    "                  ' %0.2f min total |' % ((time.time() - main_time) / 60),\n",
    "                  ' %0.2f day sales |' % (temp_df['F'+str(PREDICT_DAY)].sum()))\n",
    "    del temp_df\n",
    "    \n",
    "all_preds = all_preds.reset_index(drop=True)\n",
    "all_preds"
   ]
  },
  {
   "cell_type": "code",
   "execution_count": 14,
   "metadata": {},
   "outputs": [],
   "source": [
    "########## Export ##########\n",
    "VER = 11 #版本代号\n",
    "submission = pd.read_csv(ORIGINAL+'sample_submission.csv')[['id']]\n",
    "submission = submission.merge(all_preds, on=['id'], how='left').fillna(0)\n",
    "submission.to_csv('./Output/'+'submission_v'+str(VER)+'.csv', index=False)"
   ]
  },
  {
   "cell_type": "markdown",
   "metadata": {},
   "source": [
    "# 结果及讨论"
   ]
  },
  {
   "cell_type": "markdown",
   "metadata": {},
   "source": [
    "截止到作业提交前一周，团队现在在3095只队伍中排名293（位于top10%的铜牌区）"
   ]
  },
  {
   "cell_type": "markdown",
   "metadata": {},
   "source": [
    "![title](https://cdn.nlark.com/yuque/0/2020/png/1301375/1589449333453-a853bc74-c2b4-4ddd-82f4-49102f18995e.png)"
   ]
  },
  {
   "cell_type": "markdown",
   "metadata": {},
   "source": [
    "> 然而，现在排名还在每天变动，我会在6月30日比赛截止之前继续努力，**接下来的几个方向：**\n",
    "1. **模型细化**: 当前模型是最小到每个商店建模，但其实基于商店里的每个商品都有自己的时间序列模式，如果对整体你和之后，再blend一些时间序列的SARIMA模型处理残差，有可能会提升结果\n",
    "2. **整体上blending多个模型**: 简单尝试发现，LSTM效果虽然不如LightGBM，但是对某些地区有效\n",
    "3. **识别出商品缺货特征**: 有时候商品销量为0，不是因为没有人买而是卖完了，如果我们能判断一件商品的缺货模式，而识别出测试集中商品正好在缺货状态，就可以直接给出0预测\n",
    "4. **加入天气特征**: 天气会是影响人们出门购买的重要因素，但是这部分数据比赛方没有提供，而且数据量很大，需要购买服务器资源才能进行"
   ]
  },
  {
   "cell_type": "markdown",
   "metadata": {},
   "source": [
    "结束语：感谢老师这学期精彩的教授让我入门了数据科学并发现了自己的兴趣，并且推荐信协助了我申请。希望自己可以在这次比赛中继续努力取得好成绩，并努力申请研究生、扎实理论、多写代码，一步步走上自己规划的数据科学的职业道路。"
   ]
  }
 ],
 "metadata": {
  "kernelspec": {
   "display_name": "Python 3",
   "language": "python",
   "name": "python3"
  },
  "language_info": {
   "codemirror_mode": {
    "name": "ipython",
    "version": 3
   },
   "file_extension": ".py",
   "mimetype": "text/x-python",
   "name": "python",
   "nbconvert_exporter": "python",
   "pygments_lexer": "ipython3",
   "version": "3.7.4"
  },
  "toc-autonumbering": false,
  "toc-showtags": false,
  "widgets": {
   "application/vnd.jupyter.widget-state+json": {
    "state": {},
    "version_major": 2,
    "version_minor": 0
   }
  }
 },
 "nbformat": 4,
 "nbformat_minor": 4
}
