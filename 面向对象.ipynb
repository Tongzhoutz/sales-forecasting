{
 "cells": [
  {
   "cell_type": "code",
   "execution_count": 29,
   "id": "48de1ee4",
   "metadata": {},
   "outputs": [],
   "source": [
    "# 类不是去执行代码的，只是负责定义通过封装变量和方法\n",
    "\n",
    "class Student:\n",
    "    name = \" \"\n",
    "    age = 11\n",
    "    def __init__(self):\n",
    "        print(\"student\")\n",
    "        \n",
    "    \n",
    "    def do_hw(self):\n",
    "        print(\"homework\")"
   ]
  },
  {
   "cell_type": "code",
   "execution_count": 30,
   "id": "312efb19",
   "metadata": {},
   "outputs": [
    {
     "name": "stdout",
     "output_type": "stream",
     "text": [
      "student\n",
      "student\n",
      "None\n",
      "<class 'NoneType'>\n",
      "<__main__.Student object at 0x7f8320fb8af0>\n"
     ]
    }
   ],
   "source": [
    "student1 = Student()\n",
    "a = student1.__init__()\n",
    "print(a)\n",
    "print(type(a))\n",
    "print(student1)"
   ]
  },
  {
   "cell_type": "code",
   "execution_count": 9,
   "id": "a5235de4",
   "metadata": {},
   "outputs": [
    {
     "name": "stdout",
     "output_type": "stream",
     "text": [
      "140201427121008\n",
      "140201427122448\n",
      "140201427122880\n"
     ]
    }
   ],
   "source": [
    "print(id(student1))\n",
    "print(id(student2))\n",
    "print(id(student3))"
   ]
  },
  {
   "cell_type": "code",
   "execution_count": 15,
   "id": "0c00debe",
   "metadata": {},
   "outputs": [],
   "source": [
    "def increas(num):\n",
    "    num\n",
    "    num += 1"
   ]
  },
  {
   "cell_type": "code",
   "execution_count": 16,
   "id": "c5855e7a",
   "metadata": {},
   "outputs": [
    {
     "name": "stdout",
     "output_type": "stream",
     "text": [
      "0\n"
     ]
    }
   ],
   "source": [
    "num = 0\n",
    "increas(num)\n",
    "print(num)"
   ]
  },
  {
   "cell_type": "code",
   "execution_count": 39,
   "id": "8f8bc6f4",
   "metadata": {},
   "outputs": [],
   "source": [
    "class Student:\n",
    "    def __init__(self, name, age):\n",
    "        self.name = name\n",
    "        self.age = age\n",
    "        \n",
    "    \n",
    "    def do_hw(self):\n",
    "        print(\"homework\")"
   ]
  },
  {
   "cell_type": "code",
   "execution_count": 40,
   "id": "af05b08a",
   "metadata": {},
   "outputs": [],
   "source": [
    "student1 = Student(\"David\", 11)"
   ]
  },
  {
   "cell_type": "code",
   "execution_count": 41,
   "id": "7b158c4b",
   "metadata": {},
   "outputs": [
    {
     "data": {
      "text/plain": [
       "'David'"
      ]
     },
     "execution_count": 41,
     "metadata": {},
     "output_type": "execute_result"
    }
   ],
   "source": [
    "student1.name"
   ]
  },
  {
   "cell_type": "code",
   "execution_count": 42,
   "id": "a9704bb8",
   "metadata": {},
   "outputs": [
    {
     "data": {
      "text/plain": [
       "11"
      ]
     },
     "execution_count": 42,
     "metadata": {},
     "output_type": "execute_result"
    }
   ],
   "source": [
    "student1.age"
   ]
  },
  {
   "cell_type": "code",
   "execution_count": 43,
   "id": "6425f5c7",
   "metadata": {},
   "outputs": [],
   "source": [
    "# 迭代器 是class\n",
    "# 迭代器可以用for-in遍历"
   ]
  },
  {
   "cell_type": "code",
   "execution_count": 48,
   "id": "fc2cefc8",
   "metadata": {},
   "outputs": [],
   "source": [
    "class Book:\n",
    "    pass\n",
    "\n",
    "class BookCollection:\n",
    "    def __init__(self):\n",
    "        self.data = [\"往事\", \"只能\", \"回味\"]\n",
    "        self.cur = 0\n",
    "    \n",
    "    def __iter__(self):\n",
    "        return self\n",
    "    \n",
    "    def __next__(self):\n",
    "        if self.cur >= len(self.data):\n",
    "            raise StopIteration()\n",
    "        r = self.data[self.cur]\n",
    "        self.cur += 1\n",
    "        return r"
   ]
  },
  {
   "cell_type": "code",
   "execution_count": 64,
   "id": "bcfea73e",
   "metadata": {},
   "outputs": [],
   "source": [
    "books = BookCollection()"
   ]
  },
  {
   "cell_type": "code",
   "execution_count": 65,
   "id": "9923e651",
   "metadata": {},
   "outputs": [
    {
     "data": {
      "text/plain": [
       "'往事'"
      ]
     },
     "execution_count": 65,
     "metadata": {},
     "output_type": "execute_result"
    }
   ],
   "source": [
    "next(books)\n"
   ]
  },
  {
   "cell_type": "code",
   "execution_count": 66,
   "id": "7e1134e9",
   "metadata": {},
   "outputs": [
    {
     "data": {
      "text/plain": [
       "'只能'"
      ]
     },
     "execution_count": 66,
     "metadata": {},
     "output_type": "execute_result"
    }
   ],
   "source": [
    "next(books)"
   ]
  },
  {
   "cell_type": "code",
   "execution_count": 67,
   "id": "bb0c1959",
   "metadata": {},
   "outputs": [
    {
     "data": {
      "text/plain": [
       "'回味'"
      ]
     },
     "execution_count": 67,
     "metadata": {},
     "output_type": "execute_result"
    }
   ],
   "source": [
    "next(books)"
   ]
  },
  {
   "cell_type": "code",
   "execution_count": 61,
   "id": "5c832c3a",
   "metadata": {},
   "outputs": [
    {
     "name": "stdout",
     "output_type": "stream",
     "text": [
      "往事\n",
      "只能\n",
      "回味\n"
     ]
    }
   ],
   "source": [
    "for book in books:\n",
    "    print(book)"
   ]
  },
  {
   "cell_type": "code",
   "execution_count": 62,
   "id": "bd5575a5",
   "metadata": {},
   "outputs": [],
   "source": [
    "for book in books:\n",
    "    print(book)"
   ]
  },
  {
   "cell_type": "code",
   "execution_count": null,
   "id": "0ca42505",
   "metadata": {},
   "outputs": [],
   "source": []
  }
 ],
 "metadata": {
  "kernelspec": {
   "display_name": "Python 3",
   "language": "python",
   "name": "python3"
  },
  "language_info": {
   "codemirror_mode": {
    "name": "ipython",
    "version": 3
   },
   "file_extension": ".py",
   "mimetype": "text/x-python",
   "name": "python",
   "nbconvert_exporter": "python",
   "pygments_lexer": "ipython3",
   "version": "3.8.8"
  }
 },
 "nbformat": 4,
 "nbformat_minor": 5
}
