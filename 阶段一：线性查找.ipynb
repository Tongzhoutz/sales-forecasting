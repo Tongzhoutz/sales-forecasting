{
 "cells": [
  {
   "cell_type": "markdown",
   "id": "8a4128fc",
   "metadata": {},
   "source": [
    "# 用于int 类型的查找"
   ]
  },
  {
   "cell_type": "code",
   "execution_count": 14,
   "id": "a7fe893d",
   "metadata": {},
   "outputs": [],
   "source": [
    "arr = [34, 3, 4, 16, 3, 44]\n",
    "target = 16"
   ]
  },
  {
   "cell_type": "code",
   "execution_count": 18,
   "id": "dcad3c06",
   "metadata": {},
   "outputs": [],
   "source": [
    "def LinSearch(arr, target):\n",
    "    \n",
    "    for i in range(len(arr)):\n",
    "        if arr[i] == target:\n",
    "            return i\n",
    "            break\n",
    "    return \"No target was found!\""
   ]
  },
  {
   "cell_type": "code",
   "execution_count": 21,
   "id": "b539b22d",
   "metadata": {},
   "outputs": [
    {
     "data": {
      "text/plain": [
       "1"
      ]
     },
     "execution_count": 21,
     "metadata": {},
     "output_type": "execute_result"
    }
   ],
   "source": [
    "LinSearch(arr, 3)"
   ]
  },
  {
   "cell_type": "code",
   "execution_count": 22,
   "id": "535bd278",
   "metadata": {},
   "outputs": [],
   "source": [
    "class Math:\n",
    "    \n",
    "    @staticmethod\n",
    "    def LinSearch(data, target):\n",
    "        for i in range(len(data)):\n",
    "            if data[i] == target:\n",
    "                return i\n",
    "        return \"No target was found!\""
   ]
  },
  {
   "cell_type": "code",
   "execution_count": 23,
   "id": "7c58fc16",
   "metadata": {},
   "outputs": [],
   "source": [
    "data= arr"
   ]
  },
  {
   "cell_type": "code",
   "execution_count": 24,
   "id": "ae1aee12",
   "metadata": {},
   "outputs": [
    {
     "data": {
      "text/plain": [
       "16"
      ]
     },
     "execution_count": 24,
     "metadata": {},
     "output_type": "execute_result"
    }
   ],
   "source": [
    "target"
   ]
  },
  {
   "cell_type": "code",
   "execution_count": 25,
   "id": "f455d334",
   "metadata": {},
   "outputs": [
    {
     "data": {
      "text/plain": [
       "3"
      ]
     },
     "execution_count": 25,
     "metadata": {},
     "output_type": "execute_result"
    }
   ],
   "source": [
    "Math.LinSearch(data,target)"
   ]
  },
  {
   "cell_type": "markdown",
   "id": "0fc967fc",
   "metadata": {},
   "source": [
    "# generalize to more types of data"
   ]
  },
  {
   "cell_type": "markdown",
   "id": "a905bbcf",
   "metadata": {},
   "source": [
    "# 循环不变量"
   ]
  },
  {
   "cell_type": "markdown",
   "id": "39eaa8ef",
   "metadata": {},
   "source": [
    "### 循环体： 维持循环不变量"
   ]
  },
  {
   "cell_type": "code",
   "execution_count": null,
   "id": "b56ecc17",
   "metadata": {},
   "outputs": [],
   "source": []
  }
 ],
 "metadata": {
  "kernelspec": {
   "display_name": "Python 3",
   "language": "python",
   "name": "python3"
  },
  "language_info": {
   "codemirror_mode": {
    "name": "ipython",
    "version": 3
   },
   "file_extension": ".py",
   "mimetype": "text/x-python",
   "name": "python",
   "nbconvert_exporter": "python",
   "pygments_lexer": "ipython3",
   "version": "3.8.8"
  }
 },
 "nbformat": 4,
 "nbformat_minor": 5
}
