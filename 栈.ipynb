{
 "cells": [
  {
   "cell_type": "code",
   "execution_count": 35,
   "id": "24670de5",
   "metadata": {},
   "outputs": [],
   "source": [
    "class Stack:\n",
    "    def __init__(self):\n",
    "        self.stack = []\n",
    "        self.size = 0\n",
    "        \n",
    "    def push(self,item):\n",
    "        self.stack.append(item)\n",
    "        self.size += 1\n",
    "        \n",
    "    def pop(self):\n",
    "        self.stack.pop()\n",
    "        self.size -= 1\n",
    "    \n",
    "    def peek(self):\n",
    "        return self.stack[-1]\n",
    "        \n",
    "    def sizes(self):\n",
    "        return self.size\n",
    "    \n",
    "    def isEmpty(self):\n",
    "        if self.size == 0:\n",
    "            return True\n",
    "        else:\n",
    "            return False\n",
    "    "
   ]
  },
  {
   "cell_type": "code",
   "execution_count": 41,
   "id": "4e60fc35",
   "metadata": {},
   "outputs": [],
   "source": [
    "ss = Stack()"
   ]
  },
  {
   "cell_type": "code",
   "execution_count": 43,
   "id": "beb1b767",
   "metadata": {},
   "outputs": [
    {
     "data": {
      "text/plain": [
       "False"
      ]
     },
     "execution_count": 43,
     "metadata": {},
     "output_type": "execute_result"
    }
   ],
   "source": [
    "ss.isEmpty()"
   ]
  },
  {
   "cell_type": "code",
   "execution_count": 44,
   "id": "e8aed936",
   "metadata": {},
   "outputs": [
    {
     "data": {
      "text/plain": [
       "1"
      ]
     },
     "execution_count": 44,
     "metadata": {},
     "output_type": "execute_result"
    }
   ],
   "source": [
    "ss.sizes()"
   ]
  },
  {
   "cell_type": "code",
   "execution_count": 42,
   "id": "c6806ea2",
   "metadata": {},
   "outputs": [],
   "source": [
    "ss.push(\"d\")"
   ]
  },
  {
   "cell_type": "code",
   "execution_count": 8,
   "id": "e77ef808",
   "metadata": {},
   "outputs": [
    {
     "data": {
      "text/plain": [
       "['d']"
      ]
     },
     "execution_count": 8,
     "metadata": {},
     "output_type": "execute_result"
    }
   ],
   "source": [
    "ss.stack"
   ]
  },
  {
   "cell_type": "code",
   "execution_count": 9,
   "id": "6f1a583a",
   "metadata": {},
   "outputs": [
    {
     "data": {
      "text/plain": [
       "1"
      ]
     },
     "execution_count": 9,
     "metadata": {},
     "output_type": "execute_result"
    }
   ],
   "source": [
    "ss.sizes()"
   ]
  },
  {
   "cell_type": "code",
   "execution_count": 10,
   "id": "0c561f91",
   "metadata": {},
   "outputs": [
    {
     "data": {
      "text/plain": [
       "'d'"
      ]
     },
     "execution_count": 10,
     "metadata": {},
     "output_type": "execute_result"
    }
   ],
   "source": [
    "ss.peek()"
   ]
  },
  {
   "cell_type": "code",
   "execution_count": 11,
   "id": "2d3cb4d2",
   "metadata": {},
   "outputs": [],
   "source": [
    "ss.pop()"
   ]
  },
  {
   "cell_type": "code",
   "execution_count": 12,
   "id": "5f56760c",
   "metadata": {},
   "outputs": [
    {
     "data": {
      "text/plain": [
       "[]"
      ]
     },
     "execution_count": 12,
     "metadata": {},
     "output_type": "execute_result"
    }
   ],
   "source": [
    "ss.stack"
   ]
  },
  {
   "cell_type": "code",
   "execution_count": 13,
   "id": "651280be",
   "metadata": {},
   "outputs": [
    {
     "data": {
      "text/plain": [
       "0"
      ]
     },
     "execution_count": 13,
     "metadata": {},
     "output_type": "execute_result"
    }
   ],
   "source": [
    "ss.sizes()"
   ]
  },
  {
   "cell_type": "code",
   "execution_count": null,
   "id": "b744a909",
   "metadata": {},
   "outputs": [],
   "source": []
  }
 ],
 "metadata": {
  "kernelspec": {
   "display_name": "Python 3",
   "language": "python",
   "name": "python3"
  },
  "language_info": {
   "codemirror_mode": {
    "name": "ipython",
    "version": 3
   },
   "file_extension": ".py",
   "mimetype": "text/x-python",
   "name": "python",
   "nbconvert_exporter": "python",
   "pygments_lexer": "ipython3",
   "version": "3.8.8"
  }
 },
 "nbformat": 4,
 "nbformat_minor": 5
}
