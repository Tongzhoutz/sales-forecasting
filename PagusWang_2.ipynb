{
 "cells": [
  {
   "cell_type": "code",
   "execution_count": 9,
   "id": "05f6464d",
   "metadata": {},
   "outputs": [],
   "source": [
    "class Bag(object):\n",
    "    \n",
    "    def __init__(self, maxsize=10):\n",
    "        self.maxsize = maxsize\n",
    "        self._items = list()\n",
    "    \n",
    "    def add(self, item):\n",
    "        if len(self) > self.maxsize:\n",
    "            raise Exception('Bag is full')\n",
    "        self._items.append(item)\n",
    "        \n",
    "    def remove(self, item):\n",
    "        self._items.pop()\n",
    "    \n",
    "    def __len__(self):\n",
    "        return len(self._items)\n",
    "    \n",
    "    def __iter__(self):\n",
    "        for item in self._items:\n",
    "            yield item\n",
    "            \n",
    "    \n",
    "    "
   ]
  },
  {
   "cell_type": "code",
   "execution_count": 14,
   "id": "ccaa37de",
   "metadata": {},
   "outputs": [],
   "source": [
    "def test_bag():\n",
    "    bag = Bag()\n",
    "    \n",
    "    bag.add(1)\n",
    "    bag.add(2)\n",
    "    bag.add(3)\n",
    "    \n",
    "    assert len(bag) == 3\n",
    "    \n",
    "    bag.remove(3)\n",
    "    assert len(bag) == 2\n",
    "    \n",
    "    for i in bag:\n",
    "        print(i)\n",
    "        "
   ]
  },
  {
   "cell_type": "code",
   "execution_count": 15,
   "id": "823452cd",
   "metadata": {},
   "outputs": [
    {
     "name": "stdout",
     "output_type": "stream",
     "text": [
      "1\n",
      "2\n"
     ]
    }
   ],
   "source": [
    "test_bag()"
   ]
  },
  {
   "cell_type": "code",
   "execution_count": null,
   "id": "8eaa40c2",
   "metadata": {},
   "outputs": [],
   "source": []
  }
 ],
 "metadata": {
  "kernelspec": {
   "display_name": "Python 3",
   "language": "python",
   "name": "python3"
  },
  "language_info": {
   "codemirror_mode": {
    "name": "ipython",
    "version": 3
   },
   "file_extension": ".py",
   "mimetype": "text/x-python",
   "name": "python",
   "nbconvert_exporter": "python",
   "pygments_lexer": "ipython3",
   "version": "3.8.8"
  }
 },
 "nbformat": 4,
 "nbformat_minor": 5
}
