{
 "cells": [
  {
   "cell_type": "code",
   "execution_count": 25,
   "id": "8e2a3c6a",
   "metadata": {},
   "outputs": [],
   "source": [
    "def sum_number(num):\n",
    "    # print(num)\n",
    "    # 要有递归出口\n",
    "    if num == 1:\n",
    "        return 1\n",
    "    temp = sum_number(num - 1)\n",
    "    \n",
    "    return num + temp"
   ]
  },
  {
   "cell_type": "code",
   "execution_count": 27,
   "id": "c866f7e7",
   "metadata": {},
   "outputs": [
    {
     "data": {
      "text/plain": [
       "5050"
      ]
     },
     "execution_count": 27,
     "metadata": {},
     "output_type": "execute_result"
    }
   ],
   "source": [
    "sum_number(100)"
   ]
  },
  {
   "cell_type": "markdown",
   "id": "48be7a88",
   "metadata": {},
   "source": [
    "### 1. n factorial"
   ]
  },
  {
   "cell_type": "code",
   "execution_count": 1,
   "id": "9a4f901e",
   "metadata": {},
   "outputs": [],
   "source": [
    "def factorial(n):\n",
    "    \n",
    "    if n == 1:\n",
    "        return 1\n",
    "    \n",
    "    return n * factorial(n-1)"
   ]
  },
  {
   "cell_type": "code",
   "execution_count": 6,
   "id": "da339c3f",
   "metadata": {},
   "outputs": [
    {
     "data": {
      "text/plain": [
       "24"
      ]
     },
     "execution_count": 6,
     "metadata": {},
     "output_type": "execute_result"
    }
   ],
   "source": [
    "factorial(4)"
   ]
  },
  {
   "cell_type": "markdown",
   "id": "e3ce5f1a",
   "metadata": {},
   "source": [
    "### 2. 青蛙跳台阶"
   ]
  },
  {
   "cell_type": "code",
   "execution_count": 9,
   "id": "0cc62a5c",
   "metadata": {},
   "outputs": [],
   "source": [
    "def frog(n):\n",
    "    if n == 1:\n",
    "        return 1\n",
    "    if n == 2:\n",
    "        return 2\n",
    "    return frog(n-1) + frog(n-2)\n",
    "        "
   ]
  },
  {
   "cell_type": "code",
   "execution_count": 12,
   "id": "4bf94ab6",
   "metadata": {},
   "outputs": [
    {
     "data": {
      "text/plain": [
       "89"
      ]
     },
     "execution_count": 12,
     "metadata": {},
     "output_type": "execute_result"
    }
   ],
   "source": [
    "frog(10)"
   ]
  },
  {
   "cell_type": "markdown",
   "id": "72d0f401",
   "metadata": {},
   "source": [
    "### 3. 翻转单链表"
   ]
  },
  {
   "cell_type": "code",
   "execution_count": null,
   "id": "610ce3db",
   "metadata": {},
   "outputs": [],
   "source": [
    "def ReserseLinkedList(lst){\n",
    "    \n",
    "}"
   ]
  },
  {
   "cell_type": "markdown",
   "id": "632e4a9d",
   "metadata": {},
   "source": [
    "# 递归与链表"
   ]
  },
  {
   "cell_type": "markdown",
   "id": "a86aa617",
   "metadata": {},
   "source": [
    "# leetcode 203"
   ]
  },
  {
   "cell_type": "code",
   "execution_count": null,
   "id": "89eb72a1",
   "metadata": {},
   "outputs": [],
   "source": [
    "root = ListNode()\n",
    "        root.next = head\n",
    "        \n",
    "        prevnode = root\n",
    "        \n",
    "        while prevnode.next is not None:\n",
    "            \n",
    "            if prevnode.next.val == val:\n",
    "                \n",
    "                prevnode.next = prevnode.next.next\n",
    "                \n",
    "                \n",
    "            else:\n",
    "                prevnode = prevnode.next\n",
    "              \n",
    "                \n",
    "        return root.next"
   ]
  },
  {
   "cell_type": "markdown",
   "id": "4dc5a3ad",
   "metadata": {},
   "source": [
    "## recursion"
   ]
  },
  {
   "cell_type": "code",
   "execution_count": null,
   "id": "f8cafe7a",
   "metadata": {},
   "outputs": [],
   "source": [
    "# Definition for singly-linked list.\n",
    "# class ListNode:\n",
    "#     def __init__(self, val=0, next=None):\n",
    "#         self.val = val\n",
    "#         self.next = next\n",
    "class Solution:\n",
    "    def removeElements(self, head: ListNode, val: int) -> ListNode:\n",
    "        \n",
    "        if head is None:\n",
    "            return None\n",
    "        \n",
    "        head.next = removeElements(head.next, val)\n",
    "        \n",
    "        if head.val == val:\n",
    "            return head.next\n",
    "        else:\n",
    "            return head\n",
    "        \n",
    "\n",
    "        "
   ]
  },
  {
   "cell_type": "markdown",
   "id": "85050fa7",
   "metadata": {},
   "source": [
    "# 用递归封装linkedlist 函数"
   ]
  },
  {
   "cell_type": "code",
   "execution_count": 13,
   "id": "69586e1a",
   "metadata": {},
   "outputs": [],
   "source": [
    "class Node:\n",
    "    \n",
    "    def __init__(self, value=None, next_node=None):\n",
    "        self.value = value\n",
    "        self.next_node = next_node"
   ]
  },
  {
   "cell_type": "code",
   "execution_count": 14,
   "id": "a7286fde",
   "metadata": {},
   "outputs": [],
   "source": [
    "class LinkedList:\n",
    "    def __init__(self):\n",
    "        self.length = 0\n",
    "        self.root = Node() # dummyHead\n",
    "\n",
    "        \n",
    "    def __len__(self):    # 获取元素个数\n",
    "        return len(self.length)\n",
    "         \n",
    "      \n",
    "    def isEmpty(self):\n",
    "        if self.length == 0:\n",
    "            return True \n",
    "        else:  \n",
    "            return False\n",
    "    \n",
    "        \n",
    "        \n",
    "   \n",
    "        \n",
    "        # 在“索引”为2的地方添加元素: 关键是找到前一个节点 prevnode\n",
    "    def add(self, index, value):\n",
    "        if index < 0:\n",
    "            raise Exception(\"Wrong\")\n",
    "        \n",
    "        # if (index == 0):\n",
    "        #    self.addFirst(value)\n",
    "        #    self.length += 1\n",
    "        \n",
    "        prevnode = self.root\n",
    "            \n",
    "        for i in range(index):\n",
    "            prevnode = prevnode.next_node\n",
    "                \n",
    "        prevnode.next_node = Node(value, prevnode.next_node)\n",
    "        self.length += 1\n",
    "        \n",
    "    def addFirst(self, value): # 添加头部比数组简单\n",
    "        self.add(0,value)\n",
    "        \n",
    "    def addLast(self, value):\n",
    "        self.add(self.length, value)\n",
    "       \n",
    "        \n",
    "        \n",
    "    def get(self, index):\n",
    "        if index < 0 or index >= self.length:\n",
    "            raise Exception(\"Wrong\")\n",
    "        \n",
    "        curnode = self.root.next_node\n",
    "        for i in range(index):\n",
    "            curnode = curnode.next_node\n",
    "        return curnode.value\n",
    "    \n",
    "    def getFirst(self):\n",
    "        return self.get(0)\n",
    "    \n",
    "    def getLast(self):\n",
    "        return self.get(self.length-1)\n",
    "\n",
    "    def set(self, index, value):\n",
    "        if index < 0:\n",
    "            raise Exception(\"Wrong\")\n",
    "        \n",
    "        curnode = self.root.next_node\n",
    "        for i in range(index):\n",
    "            curnode = curnode.next_node\n",
    "        curnode.value = value\n",
    "        \n",
    "    def contains(self, value):\n",
    "        curnode = self.root.next_node\n",
    "        \n",
    "        while curnode is not None:\n",
    "            if curnode.value == value:\n",
    "                return True\n",
    "            \n",
    "            curnode = curnode.next_node\n",
    "        \n",
    "        return False\n",
    "    \n",
    "    def remove(self, index):\n",
    "        if index < 0 or index >= self.length:\n",
    "            raise Exception(\"Wrong!!!\")\n",
    "            \n",
    "        prevnode = self.root\n",
    "        for i in range(index):\n",
    "            prevnode = prevnode.next_node\n",
    "        \n",
    "        delnode = prevnode.next_node\n",
    "        val = delnode.value\n",
    "        prevnode.next_node = delnode.next_node\n",
    "        del delnode\n",
    "        \n",
    "        self.length -= 1\n",
    "        return val"
   ]
  },
  {
   "cell_type": "code",
   "execution_count": null,
   "id": "0ae43409",
   "metadata": {},
   "outputs": [],
   "source": []
  }
 ],
 "metadata": {
  "kernelspec": {
   "display_name": "Python 3",
   "language": "python",
   "name": "python3"
  },
  "language_info": {
   "codemirror_mode": {
    "name": "ipython",
    "version": 3
   },
   "file_extension": ".py",
   "mimetype": "text/x-python",
   "name": "python",
   "nbconvert_exporter": "python",
   "pygments_lexer": "ipython3",
   "version": "3.8.8"
  }
 },
 "nbformat": 4,
 "nbformat_minor": 5
}
